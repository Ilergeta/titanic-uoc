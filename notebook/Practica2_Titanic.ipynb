{
 "cells": [
  {
   "cell_type": "markdown",
   "metadata": {},
   "source": [
    "<div style=\"width: 100%; clear: both;\">\n",
    "<div style=\"float: left; width: 50%;\">\n",
    "<img src=\"http://www.uoc.edu/portal/_resources/common/imatges/marca_UOC/UOC_Masterbrand.jpg\", align=\"left\">\n",
    "</div>\n",
    "<div style=\"float: right; width: 50%;\">\n",
    "<p style=\"margin: 0; padding-top: 22px; text-align:right;\">Tipologia i cicle de vida de les dades · <b>Pràctica 2</b></p>\n",
    "<p style=\"margin: 0; text-align:right;\">Màster universitari en Ciència de dades (Data science)</p>\n",
    "<p style=\"margin: 0; text-align:right; padding-button: 100px;\">Estudis de Informàtica, Multimèdia i Telecomunicació</p>\n",
    "</div>\n",
    "</div>\n",
    "<div style=\"width:100%;\">&nbsp;</div>\n",
    "\n",
    "\n",
    "# Pràctica 2: Neteja i anàlisi de les dades\n",
    "\n",
    "### **Autors:** Andrés Laverde Marín i Josep Mª Espasa Verdés\n",
    "\n",
    "Aquesta pràctica es basarà en el tractament del dataset [Titanic: Machine Learning from Disaster](https://www.kaggle.com/c/titanic).\n",
    "\n",
    "### Índex\n",
    "\n",
    "<ol start=\"1\">\n",
    "  <li>Descripció del dataset (Jo faria una petita introducció aqui, si vols la podem desenvolupar en detall al document)</li>\n",
    "  <li>Integració i selecció de les dades d'interès a analitzar</li>\n",
    "  <li>Neteja de les dades</li>\n",
    "  <li>Anàlisi de les dades</li>\n",
    "  <li>Representació dels resultats</li>\n",
    "  <li>Resolució del problema</li>\n",
    "</ol>"
   ]
  },
  {
   "cell_type": "code",
   "execution_count": 1,
   "metadata": {},
   "outputs": [],
   "source": [
    "# Carrega les llibreries necessàries\n",
    "import numpy as np\n",
    "import pandas as pd\n",
    "import matplotlib.pyplot as plt\n",
    "import seaborn as sns\n",
    "import os"
   ]
  },
  {
   "cell_type": "markdown",
   "metadata": {},
   "source": [
    "# 1. Descripció del dataset "
   ]
  },
  {
   "cell_type": "markdown",
   "metadata": {},
   "source": [
    "El dataset seleccionat ha estat [Titanic: Machine Learning from Disaster](https://www.kaggle.com/c/titanic) que ens proporciona *kaggle* amb l'objectiu de determinar quins dels pasatgers del titanic sobreviuen a [l'accident del 15 d'abril de 1912](https://es.wikipedia.org/wiki/RMS_Titanic) en el qual van morir 1514 persones de les 2223 que viatjaven en el transatlàntic.\n",
    "\n",
    "L'objectiu de la pràctica és entendre i predir quins grups de persones tenen més probabilitats de sobreviure, encara que sabem que hi ha un component de sort en la supervivència de les persones. Per dur a terme aquest objectiu partim de dos conjunts de dades, un que ens servirà com a entrenament, el qual compte amb 891 registres, i l'altre com test, el qual compte amb 418 registres, per validar els algoritmes de predicció fets servir."
   ]
  },
  {
   "cell_type": "markdown",
   "metadata": {},
   "source": [
    "# 2. Intregració i selecció de les dades d'interès a analitzar"
   ]
  },
  {
   "cell_type": "markdown",
   "metadata": {},
   "source": [
    "Primerament es carregen les dades dels fitxers de partida (format CSV) en objectes DataFrames de Pandas, per poder realitzar les diferents anàlisis."
   ]
  },
  {
   "cell_type": "code",
   "execution_count": 2,
   "metadata": {},
   "outputs": [],
   "source": [
    "# Carrega els fitxers de dades (entrenament i test) en dos dataframes\n",
    "titanic_train_raw = pd.read_csv(os.getcwd()+'/data/in/train.csv')\n",
    "titanic_test_raw = pd.read_csv(os.getcwd()+'/data/in/test.csv')"
   ]
  },
  {
   "cell_type": "markdown",
   "metadata": {},
   "source": [
    "A mode d'exploració inicial, es mostra les primeres files dels DataFrames i es comprova que la tipologia dels diferents atributs carregats és la correcta."
   ]
  },
  {
   "cell_type": "code",
   "execution_count": 3,
   "metadata": {},
   "outputs": [
    {
     "data": {
      "text/html": [
       "<div>\n",
       "<style scoped>\n",
       "    .dataframe tbody tr th:only-of-type {\n",
       "        vertical-align: middle;\n",
       "    }\n",
       "\n",
       "    .dataframe tbody tr th {\n",
       "        vertical-align: top;\n",
       "    }\n",
       "\n",
       "    .dataframe thead th {\n",
       "        text-align: right;\n",
       "    }\n",
       "</style>\n",
       "<table border=\"1\" class=\"dataframe\">\n",
       "  <thead>\n",
       "    <tr style=\"text-align: right;\">\n",
       "      <th></th>\n",
       "      <th>PassengerId</th>\n",
       "      <th>Survived</th>\n",
       "      <th>Pclass</th>\n",
       "      <th>Name</th>\n",
       "      <th>Sex</th>\n",
       "      <th>Age</th>\n",
       "      <th>SibSp</th>\n",
       "      <th>Parch</th>\n",
       "      <th>Ticket</th>\n",
       "      <th>Fare</th>\n",
       "      <th>Cabin</th>\n",
       "      <th>Embarked</th>\n",
       "    </tr>\n",
       "  </thead>\n",
       "  <tbody>\n",
       "    <tr>\n",
       "      <td>0</td>\n",
       "      <td>1</td>\n",
       "      <td>0</td>\n",
       "      <td>3</td>\n",
       "      <td>Braund, Mr. Owen Harris</td>\n",
       "      <td>male</td>\n",
       "      <td>22.0</td>\n",
       "      <td>1</td>\n",
       "      <td>0</td>\n",
       "      <td>A/5 21171</td>\n",
       "      <td>7.2500</td>\n",
       "      <td>NaN</td>\n",
       "      <td>S</td>\n",
       "    </tr>\n",
       "    <tr>\n",
       "      <td>1</td>\n",
       "      <td>2</td>\n",
       "      <td>1</td>\n",
       "      <td>1</td>\n",
       "      <td>Cumings, Mrs. John Bradley (Florence Briggs Th...</td>\n",
       "      <td>female</td>\n",
       "      <td>38.0</td>\n",
       "      <td>1</td>\n",
       "      <td>0</td>\n",
       "      <td>PC 17599</td>\n",
       "      <td>71.2833</td>\n",
       "      <td>C85</td>\n",
       "      <td>C</td>\n",
       "    </tr>\n",
       "    <tr>\n",
       "      <td>2</td>\n",
       "      <td>3</td>\n",
       "      <td>1</td>\n",
       "      <td>3</td>\n",
       "      <td>Heikkinen, Miss. Laina</td>\n",
       "      <td>female</td>\n",
       "      <td>26.0</td>\n",
       "      <td>0</td>\n",
       "      <td>0</td>\n",
       "      <td>STON/O2. 3101282</td>\n",
       "      <td>7.9250</td>\n",
       "      <td>NaN</td>\n",
       "      <td>S</td>\n",
       "    </tr>\n",
       "    <tr>\n",
       "      <td>3</td>\n",
       "      <td>4</td>\n",
       "      <td>1</td>\n",
       "      <td>1</td>\n",
       "      <td>Futrelle, Mrs. Jacques Heath (Lily May Peel)</td>\n",
       "      <td>female</td>\n",
       "      <td>35.0</td>\n",
       "      <td>1</td>\n",
       "      <td>0</td>\n",
       "      <td>113803</td>\n",
       "      <td>53.1000</td>\n",
       "      <td>C123</td>\n",
       "      <td>S</td>\n",
       "    </tr>\n",
       "    <tr>\n",
       "      <td>4</td>\n",
       "      <td>5</td>\n",
       "      <td>0</td>\n",
       "      <td>3</td>\n",
       "      <td>Allen, Mr. William Henry</td>\n",
       "      <td>male</td>\n",
       "      <td>35.0</td>\n",
       "      <td>0</td>\n",
       "      <td>0</td>\n",
       "      <td>373450</td>\n",
       "      <td>8.0500</td>\n",
       "      <td>NaN</td>\n",
       "      <td>S</td>\n",
       "    </tr>\n",
       "  </tbody>\n",
       "</table>\n",
       "</div>"
      ],
      "text/plain": [
       "   PassengerId  Survived  Pclass  \\\n",
       "0            1         0       3   \n",
       "1            2         1       1   \n",
       "2            3         1       3   \n",
       "3            4         1       1   \n",
       "4            5         0       3   \n",
       "\n",
       "                                                Name     Sex   Age  SibSp  \\\n",
       "0                            Braund, Mr. Owen Harris    male  22.0      1   \n",
       "1  Cumings, Mrs. John Bradley (Florence Briggs Th...  female  38.0      1   \n",
       "2                             Heikkinen, Miss. Laina  female  26.0      0   \n",
       "3       Futrelle, Mrs. Jacques Heath (Lily May Peel)  female  35.0      1   \n",
       "4                           Allen, Mr. William Henry    male  35.0      0   \n",
       "\n",
       "   Parch            Ticket     Fare Cabin Embarked  \n",
       "0      0         A/5 21171   7.2500   NaN        S  \n",
       "1      0          PC 17599  71.2833   C85        C  \n",
       "2      0  STON/O2. 3101282   7.9250   NaN        S  \n",
       "3      0            113803  53.1000  C123        S  \n",
       "4      0            373450   8.0500   NaN        S  "
      ]
     },
     "execution_count": 3,
     "metadata": {},
     "output_type": "execute_result"
    }
   ],
   "source": [
    "# Mostra les primeres files de les dades carregades\n",
    "titanic_train_raw.head()"
   ]
  },
  {
   "cell_type": "code",
   "execution_count": 4,
   "metadata": {},
   "outputs": [
    {
     "data": {
      "text/plain": [
       "PassengerId      int64\n",
       "Survived         int64\n",
       "Pclass           int64\n",
       "Name            object\n",
       "Sex             object\n",
       "Age            float64\n",
       "SibSp            int64\n",
       "Parch            int64\n",
       "Ticket          object\n",
       "Fare           float64\n",
       "Cabin           object\n",
       "Embarked        object\n",
       "dtype: object"
      ]
     },
     "execution_count": 4,
     "metadata": {},
     "output_type": "execute_result"
    }
   ],
   "source": [
    "# Comprovacio de la tipologia de les dades carregades\n",
    "titanic_train_raw.dtypes"
   ]
  },
  {
   "cell_type": "code",
   "execution_count": 5,
   "metadata": {},
   "outputs": [
    {
     "data": {
      "text/html": [
       "<div>\n",
       "<style scoped>\n",
       "    .dataframe tbody tr th:only-of-type {\n",
       "        vertical-align: middle;\n",
       "    }\n",
       "\n",
       "    .dataframe tbody tr th {\n",
       "        vertical-align: top;\n",
       "    }\n",
       "\n",
       "    .dataframe thead th {\n",
       "        text-align: right;\n",
       "    }\n",
       "</style>\n",
       "<table border=\"1\" class=\"dataframe\">\n",
       "  <thead>\n",
       "    <tr style=\"text-align: right;\">\n",
       "      <th></th>\n",
       "      <th>PassengerId</th>\n",
       "      <th>Pclass</th>\n",
       "      <th>Name</th>\n",
       "      <th>Sex</th>\n",
       "      <th>Age</th>\n",
       "      <th>SibSp</th>\n",
       "      <th>Parch</th>\n",
       "      <th>Ticket</th>\n",
       "      <th>Fare</th>\n",
       "      <th>Cabin</th>\n",
       "      <th>Embarked</th>\n",
       "    </tr>\n",
       "  </thead>\n",
       "  <tbody>\n",
       "    <tr>\n",
       "      <td>0</td>\n",
       "      <td>892</td>\n",
       "      <td>3</td>\n",
       "      <td>Kelly, Mr. James</td>\n",
       "      <td>male</td>\n",
       "      <td>34.5</td>\n",
       "      <td>0</td>\n",
       "      <td>0</td>\n",
       "      <td>330911</td>\n",
       "      <td>7.8292</td>\n",
       "      <td>NaN</td>\n",
       "      <td>Q</td>\n",
       "    </tr>\n",
       "    <tr>\n",
       "      <td>1</td>\n",
       "      <td>893</td>\n",
       "      <td>3</td>\n",
       "      <td>Wilkes, Mrs. James (Ellen Needs)</td>\n",
       "      <td>female</td>\n",
       "      <td>47.0</td>\n",
       "      <td>1</td>\n",
       "      <td>0</td>\n",
       "      <td>363272</td>\n",
       "      <td>7.0000</td>\n",
       "      <td>NaN</td>\n",
       "      <td>S</td>\n",
       "    </tr>\n",
       "    <tr>\n",
       "      <td>2</td>\n",
       "      <td>894</td>\n",
       "      <td>2</td>\n",
       "      <td>Myles, Mr. Thomas Francis</td>\n",
       "      <td>male</td>\n",
       "      <td>62.0</td>\n",
       "      <td>0</td>\n",
       "      <td>0</td>\n",
       "      <td>240276</td>\n",
       "      <td>9.6875</td>\n",
       "      <td>NaN</td>\n",
       "      <td>Q</td>\n",
       "    </tr>\n",
       "    <tr>\n",
       "      <td>3</td>\n",
       "      <td>895</td>\n",
       "      <td>3</td>\n",
       "      <td>Wirz, Mr. Albert</td>\n",
       "      <td>male</td>\n",
       "      <td>27.0</td>\n",
       "      <td>0</td>\n",
       "      <td>0</td>\n",
       "      <td>315154</td>\n",
       "      <td>8.6625</td>\n",
       "      <td>NaN</td>\n",
       "      <td>S</td>\n",
       "    </tr>\n",
       "    <tr>\n",
       "      <td>4</td>\n",
       "      <td>896</td>\n",
       "      <td>3</td>\n",
       "      <td>Hirvonen, Mrs. Alexander (Helga E Lindqvist)</td>\n",
       "      <td>female</td>\n",
       "      <td>22.0</td>\n",
       "      <td>1</td>\n",
       "      <td>1</td>\n",
       "      <td>3101298</td>\n",
       "      <td>12.2875</td>\n",
       "      <td>NaN</td>\n",
       "      <td>S</td>\n",
       "    </tr>\n",
       "  </tbody>\n",
       "</table>\n",
       "</div>"
      ],
      "text/plain": [
       "   PassengerId  Pclass                                          Name     Sex  \\\n",
       "0          892       3                              Kelly, Mr. James    male   \n",
       "1          893       3              Wilkes, Mrs. James (Ellen Needs)  female   \n",
       "2          894       2                     Myles, Mr. Thomas Francis    male   \n",
       "3          895       3                              Wirz, Mr. Albert    male   \n",
       "4          896       3  Hirvonen, Mrs. Alexander (Helga E Lindqvist)  female   \n",
       "\n",
       "    Age  SibSp  Parch   Ticket     Fare Cabin Embarked  \n",
       "0  34.5      0      0   330911   7.8292   NaN        Q  \n",
       "1  47.0      1      0   363272   7.0000   NaN        S  \n",
       "2  62.0      0      0   240276   9.6875   NaN        Q  \n",
       "3  27.0      0      0   315154   8.6625   NaN        S  \n",
       "4  22.0      1      1  3101298  12.2875   NaN        S  "
      ]
     },
     "execution_count": 5,
     "metadata": {},
     "output_type": "execute_result"
    }
   ],
   "source": [
    "titanic_test_raw.head()"
   ]
  },
  {
   "cell_type": "code",
   "execution_count": 6,
   "metadata": {},
   "outputs": [
    {
     "data": {
      "text/plain": [
       "PassengerId      int64\n",
       "Pclass           int64\n",
       "Name            object\n",
       "Sex             object\n",
       "Age            float64\n",
       "SibSp            int64\n",
       "Parch            int64\n",
       "Ticket          object\n",
       "Fare           float64\n",
       "Cabin           object\n",
       "Embarked        object\n",
       "dtype: object"
      ]
     },
     "execution_count": 6,
     "metadata": {},
     "output_type": "execute_result"
    }
   ],
   "source": [
    "titanic_test_raw.dtypes"
   ]
  },
  {
   "cell_type": "markdown",
   "metadata": {},
   "source": [
    "De tots els atributs recollits en el DataSet, les dades de nom (*Name*), número de tiquet (*Ticket*) i número de cabina (*Cabin*) són atributs que, per la seva pròpia naturalesa, no es poden considerar com factors que poden afectar la supervivència o no d'un determinat passatger i, per tant, no es seleccionaran les columnes associades a aquests atributs. A continuació es realitza aquesta selecció. Igualment l'identificador de passatger (*PasssengerID*) té aquesta característica però es deixa la variable per tal de facilitar la identificació dels diferents passatgers i el seu tractament."
   ]
  },
  {
   "cell_type": "code",
   "execution_count": 7,
   "metadata": {},
   "outputs": [],
   "source": [
    "# Elimina les columnes 'Name' i 'Ticket' dels DataFrames d'entrenament i test\n",
    "titanic_train = titanic_train_raw.drop(columns=['Name', 'Ticket', 'Cabin'])\n",
    "titanic_test = titanic_test_raw.drop(columns=['Name', 'Ticket', 'Cabin'])"
   ]
  },
  {
   "cell_type": "markdown",
   "metadata": {},
   "source": [
    "# 3. Neteja de les dades"
   ]
  },
  {
   "cell_type": "markdown",
   "metadata": {},
   "source": [
    "### 3.1 Les dades contenen zeros o elements buits? Com gestionaries aquests casos?"
   ]
  },
  {
   "cell_type": "markdown",
   "metadata": {},
   "source": [
    "### Anàlisi zeros"
   ]
  },
  {
   "cell_type": "markdown",
   "metadata": {},
   "source": [
    "Per cercar els atributs que contenen zeros, s'utilitza el mètode ```describe``` de pandas que mostra un resum estadístic de les variables quantitatives, així, entre les dades mostrades, hi ha els valors mínims que, en cas de contenir zeros, seran els valors mínims."
   ]
  },
  {
   "cell_type": "code",
   "execution_count": 8,
   "metadata": {
    "scrolled": true
   },
   "outputs": [
    {
     "data": {
      "text/html": [
       "<div>\n",
       "<style scoped>\n",
       "    .dataframe tbody tr th:only-of-type {\n",
       "        vertical-align: middle;\n",
       "    }\n",
       "\n",
       "    .dataframe tbody tr th {\n",
       "        vertical-align: top;\n",
       "    }\n",
       "\n",
       "    .dataframe thead th {\n",
       "        text-align: right;\n",
       "    }\n",
       "</style>\n",
       "<table border=\"1\" class=\"dataframe\">\n",
       "  <thead>\n",
       "    <tr style=\"text-align: right;\">\n",
       "      <th></th>\n",
       "      <th>PassengerId</th>\n",
       "      <th>Survived</th>\n",
       "      <th>Pclass</th>\n",
       "      <th>Age</th>\n",
       "      <th>SibSp</th>\n",
       "      <th>Parch</th>\n",
       "      <th>Fare</th>\n",
       "    </tr>\n",
       "  </thead>\n",
       "  <tbody>\n",
       "    <tr>\n",
       "      <td>count</td>\n",
       "      <td>891.000000</td>\n",
       "      <td>891.000000</td>\n",
       "      <td>891.000000</td>\n",
       "      <td>714.000000</td>\n",
       "      <td>891.000000</td>\n",
       "      <td>891.000000</td>\n",
       "      <td>891.000000</td>\n",
       "    </tr>\n",
       "    <tr>\n",
       "      <td>mean</td>\n",
       "      <td>446.000000</td>\n",
       "      <td>0.383838</td>\n",
       "      <td>2.308642</td>\n",
       "      <td>29.699118</td>\n",
       "      <td>0.523008</td>\n",
       "      <td>0.381594</td>\n",
       "      <td>32.204208</td>\n",
       "    </tr>\n",
       "    <tr>\n",
       "      <td>std</td>\n",
       "      <td>257.353842</td>\n",
       "      <td>0.486592</td>\n",
       "      <td>0.836071</td>\n",
       "      <td>14.526497</td>\n",
       "      <td>1.102743</td>\n",
       "      <td>0.806057</td>\n",
       "      <td>49.693429</td>\n",
       "    </tr>\n",
       "    <tr>\n",
       "      <td>min</td>\n",
       "      <td>1.000000</td>\n",
       "      <td>0.000000</td>\n",
       "      <td>1.000000</td>\n",
       "      <td>0.420000</td>\n",
       "      <td>0.000000</td>\n",
       "      <td>0.000000</td>\n",
       "      <td>0.000000</td>\n",
       "    </tr>\n",
       "    <tr>\n",
       "      <td>25%</td>\n",
       "      <td>223.500000</td>\n",
       "      <td>0.000000</td>\n",
       "      <td>2.000000</td>\n",
       "      <td>20.125000</td>\n",
       "      <td>0.000000</td>\n",
       "      <td>0.000000</td>\n",
       "      <td>7.910400</td>\n",
       "    </tr>\n",
       "    <tr>\n",
       "      <td>50%</td>\n",
       "      <td>446.000000</td>\n",
       "      <td>0.000000</td>\n",
       "      <td>3.000000</td>\n",
       "      <td>28.000000</td>\n",
       "      <td>0.000000</td>\n",
       "      <td>0.000000</td>\n",
       "      <td>14.454200</td>\n",
       "    </tr>\n",
       "    <tr>\n",
       "      <td>75%</td>\n",
       "      <td>668.500000</td>\n",
       "      <td>1.000000</td>\n",
       "      <td>3.000000</td>\n",
       "      <td>38.000000</td>\n",
       "      <td>1.000000</td>\n",
       "      <td>0.000000</td>\n",
       "      <td>31.000000</td>\n",
       "    </tr>\n",
       "    <tr>\n",
       "      <td>max</td>\n",
       "      <td>891.000000</td>\n",
       "      <td>1.000000</td>\n",
       "      <td>3.000000</td>\n",
       "      <td>80.000000</td>\n",
       "      <td>8.000000</td>\n",
       "      <td>6.000000</td>\n",
       "      <td>512.329200</td>\n",
       "    </tr>\n",
       "  </tbody>\n",
       "</table>\n",
       "</div>"
      ],
      "text/plain": [
       "       PassengerId    Survived      Pclass         Age       SibSp  \\\n",
       "count   891.000000  891.000000  891.000000  714.000000  891.000000   \n",
       "mean    446.000000    0.383838    2.308642   29.699118    0.523008   \n",
       "std     257.353842    0.486592    0.836071   14.526497    1.102743   \n",
       "min       1.000000    0.000000    1.000000    0.420000    0.000000   \n",
       "25%     223.500000    0.000000    2.000000   20.125000    0.000000   \n",
       "50%     446.000000    0.000000    3.000000   28.000000    0.000000   \n",
       "75%     668.500000    1.000000    3.000000   38.000000    1.000000   \n",
       "max     891.000000    1.000000    3.000000   80.000000    8.000000   \n",
       "\n",
       "            Parch        Fare  \n",
       "count  891.000000  891.000000  \n",
       "mean     0.381594   32.204208  \n",
       "std      0.806057   49.693429  \n",
       "min      0.000000    0.000000  \n",
       "25%      0.000000    7.910400  \n",
       "50%      0.000000   14.454200  \n",
       "75%      0.000000   31.000000  \n",
       "max      6.000000  512.329200  "
      ]
     },
     "execution_count": 8,
     "metadata": {},
     "output_type": "execute_result"
    }
   ],
   "source": [
    "# Mostra un resum estadistic dels DataFrames d'entrenament i test\n",
    "titanic_train.describe()"
   ]
  },
  {
   "cell_type": "code",
   "execution_count": 9,
   "metadata": {},
   "outputs": [
    {
     "data": {
      "text/html": [
       "<div>\n",
       "<style scoped>\n",
       "    .dataframe tbody tr th:only-of-type {\n",
       "        vertical-align: middle;\n",
       "    }\n",
       "\n",
       "    .dataframe tbody tr th {\n",
       "        vertical-align: top;\n",
       "    }\n",
       "\n",
       "    .dataframe thead th {\n",
       "        text-align: right;\n",
       "    }\n",
       "</style>\n",
       "<table border=\"1\" class=\"dataframe\">\n",
       "  <thead>\n",
       "    <tr style=\"text-align: right;\">\n",
       "      <th></th>\n",
       "      <th>PassengerId</th>\n",
       "      <th>Pclass</th>\n",
       "      <th>Age</th>\n",
       "      <th>SibSp</th>\n",
       "      <th>Parch</th>\n",
       "      <th>Fare</th>\n",
       "    </tr>\n",
       "  </thead>\n",
       "  <tbody>\n",
       "    <tr>\n",
       "      <td>count</td>\n",
       "      <td>418.000000</td>\n",
       "      <td>418.000000</td>\n",
       "      <td>332.000000</td>\n",
       "      <td>418.000000</td>\n",
       "      <td>418.000000</td>\n",
       "      <td>417.000000</td>\n",
       "    </tr>\n",
       "    <tr>\n",
       "      <td>mean</td>\n",
       "      <td>1100.500000</td>\n",
       "      <td>2.265550</td>\n",
       "      <td>30.272590</td>\n",
       "      <td>0.447368</td>\n",
       "      <td>0.392344</td>\n",
       "      <td>35.627188</td>\n",
       "    </tr>\n",
       "    <tr>\n",
       "      <td>std</td>\n",
       "      <td>120.810458</td>\n",
       "      <td>0.841838</td>\n",
       "      <td>14.181209</td>\n",
       "      <td>0.896760</td>\n",
       "      <td>0.981429</td>\n",
       "      <td>55.907576</td>\n",
       "    </tr>\n",
       "    <tr>\n",
       "      <td>min</td>\n",
       "      <td>892.000000</td>\n",
       "      <td>1.000000</td>\n",
       "      <td>0.170000</td>\n",
       "      <td>0.000000</td>\n",
       "      <td>0.000000</td>\n",
       "      <td>0.000000</td>\n",
       "    </tr>\n",
       "    <tr>\n",
       "      <td>25%</td>\n",
       "      <td>996.250000</td>\n",
       "      <td>1.000000</td>\n",
       "      <td>21.000000</td>\n",
       "      <td>0.000000</td>\n",
       "      <td>0.000000</td>\n",
       "      <td>7.895800</td>\n",
       "    </tr>\n",
       "    <tr>\n",
       "      <td>50%</td>\n",
       "      <td>1100.500000</td>\n",
       "      <td>3.000000</td>\n",
       "      <td>27.000000</td>\n",
       "      <td>0.000000</td>\n",
       "      <td>0.000000</td>\n",
       "      <td>14.454200</td>\n",
       "    </tr>\n",
       "    <tr>\n",
       "      <td>75%</td>\n",
       "      <td>1204.750000</td>\n",
       "      <td>3.000000</td>\n",
       "      <td>39.000000</td>\n",
       "      <td>1.000000</td>\n",
       "      <td>0.000000</td>\n",
       "      <td>31.500000</td>\n",
       "    </tr>\n",
       "    <tr>\n",
       "      <td>max</td>\n",
       "      <td>1309.000000</td>\n",
       "      <td>3.000000</td>\n",
       "      <td>76.000000</td>\n",
       "      <td>8.000000</td>\n",
       "      <td>9.000000</td>\n",
       "      <td>512.329200</td>\n",
       "    </tr>\n",
       "  </tbody>\n",
       "</table>\n",
       "</div>"
      ],
      "text/plain": [
       "       PassengerId      Pclass         Age       SibSp       Parch        Fare\n",
       "count   418.000000  418.000000  332.000000  418.000000  418.000000  417.000000\n",
       "mean   1100.500000    2.265550   30.272590    0.447368    0.392344   35.627188\n",
       "std     120.810458    0.841838   14.181209    0.896760    0.981429   55.907576\n",
       "min     892.000000    1.000000    0.170000    0.000000    0.000000    0.000000\n",
       "25%     996.250000    1.000000   21.000000    0.000000    0.000000    7.895800\n",
       "50%    1100.500000    3.000000   27.000000    0.000000    0.000000   14.454200\n",
       "75%    1204.750000    3.000000   39.000000    1.000000    0.000000   31.500000\n",
       "max    1309.000000    3.000000   76.000000    8.000000    9.000000  512.329200"
      ]
     },
     "execution_count": 9,
     "metadata": {},
     "output_type": "execute_result"
    }
   ],
   "source": [
    "titanic_test.describe()"
   ]
  },
  {
   "cell_type": "markdown",
   "metadata": {},
   "source": [
    "Tal com es pot observar en la sortida de dades, els camps que contenen zeros són la supervivència (*Survived*), el nombre de germans o cònjuge a bord del Titànic (*Sibsp*), el nombre de pares o nens a bord del Titànic (*Parch*) i el preu del bitllet (*Fare*).\n",
    "\n",
    "De tots ells, són totalment lògics i legítims els valors zero en el atributs *Survived, Sibsp* i *Parch*, en canvi, un preu de bitllet igual a zero, inicialment, no resulta lògic, més enllà de considerar que aquests passatgers com pertanyents a la tripulació, segurament la hipòtesis més raonable. Després d'una recerca per les xarxes amb els noms de les persones que acompleixen aquesta condició es dóna com a raonable aquest fet i s'accepten com a legítims, també, aquests valors de zero pel preu de bitllet i, per tant, no es relitzarà cap tractament al respecte."
   ]
  },
  {
   "cell_type": "markdown",
   "metadata": {},
   "source": [
    "### Anàlisi valors nuls"
   ]
  },
  {
   "cell_type": "code",
   "execution_count": 10,
   "metadata": {},
   "outputs": [
    {
     "data": {
      "text/plain": [
       "PassengerId      0\n",
       "Survived         0\n",
       "Pclass           0\n",
       "Sex              0\n",
       "Age            177\n",
       "SibSp            0\n",
       "Parch            0\n",
       "Fare             0\n",
       "Embarked         2\n",
       "dtype: int64"
      ]
     },
     "execution_count": 10,
     "metadata": {},
     "output_type": "execute_result"
    }
   ],
   "source": [
    "# Comprova el nombre de dades amb valors nuls en les dades d'entrenament i de test\n",
    "titanic_train.isnull().sum()"
   ]
  },
  {
   "cell_type": "code",
   "execution_count": 11,
   "metadata": {},
   "outputs": [
    {
     "data": {
      "text/plain": [
       "PassengerId     0\n",
       "Pclass          0\n",
       "Sex             0\n",
       "Age            86\n",
       "SibSp           0\n",
       "Parch           0\n",
       "Fare            1\n",
       "Embarked        0\n",
       "dtype: int64"
      ]
     },
     "execution_count": 11,
     "metadata": {},
     "output_type": "execute_result"
    }
   ],
   "source": [
    "titanic_test.isnull().sum()"
   ]
  },
  {
   "cell_type": "markdown",
   "metadata": {},
   "source": [
    "Tal com es pot veure en la sortida de dades, existeixen valors nuls en l'atribut d'edat (*Age*) en els dos DataSets, tant el d'entrenament com el de test, i, en el cas del conjunt de dades d'entrenament, també presenta valors nuls el camp del port d'embarcament (*Embarked*), en dos instàncies, mentre en el cas del conjunt de dades de test, presenta un valor nul el camp del preu del bitllet (*Fare*).\n",
    "\n",
    "El tractament d'aquests valors nuls es realitza de manera diferencial segons l'atribut considerat, així, els nuls en els camps de port d'embarcament (*Embarked*) i preu del bitllet (*Fare*), donat que tenen una freqüència molt baixa, s'intentaran corregir manualment, gràcies a la gran quantitat d'informació disponible per la xarxa, referent al viatge del Titànic. En canvi, en el tractament dels valors nuls de l'atribut d'edat (*Age*), que presenta una freqüència important (177 i 86 instàncies en el conjunt de dades d'entrenament i de test, respectivament) no pot plantejar-se la correcció manual i, per tant, es planteja algun altre tipus de tractament que impliqui l'aplicació d'un mètode general. Així, una primera opció seria eliminar aquests registres nuls, però aquesta opció es descarta degut a la important pèrdua d'informació que representa, per tant, s'opta per emprar un mètode d'imputació de dades i, d'entre els disponibles, s'elegeix el missForest, ja que és considerat un mètode robust que, alhora, permet treballar amb dades mixtes.\n",
    "\n",
    "Seguidament es realitza la imputació manual dels valors nuls dels atributs de port d'embarcament (*Embarked*) i preu del bitllet (*Fare*)."
   ]
  },
  {
   "cell_type": "code",
   "execution_count": 12,
   "metadata": {},
   "outputs": [
    {
     "data": {
      "text/html": [
       "<div>\n",
       "<style scoped>\n",
       "    .dataframe tbody tr th:only-of-type {\n",
       "        vertical-align: middle;\n",
       "    }\n",
       "\n",
       "    .dataframe tbody tr th {\n",
       "        vertical-align: top;\n",
       "    }\n",
       "\n",
       "    .dataframe thead th {\n",
       "        text-align: right;\n",
       "    }\n",
       "</style>\n",
       "<table border=\"1\" class=\"dataframe\">\n",
       "  <thead>\n",
       "    <tr style=\"text-align: right;\">\n",
       "      <th></th>\n",
       "      <th>PassengerId</th>\n",
       "      <th>Survived</th>\n",
       "      <th>Pclass</th>\n",
       "      <th>Name</th>\n",
       "      <th>Sex</th>\n",
       "      <th>Age</th>\n",
       "      <th>SibSp</th>\n",
       "      <th>Parch</th>\n",
       "      <th>Ticket</th>\n",
       "      <th>Fare</th>\n",
       "      <th>Cabin</th>\n",
       "      <th>Embarked</th>\n",
       "    </tr>\n",
       "  </thead>\n",
       "  <tbody>\n",
       "    <tr>\n",
       "      <td>61</td>\n",
       "      <td>62</td>\n",
       "      <td>1</td>\n",
       "      <td>1</td>\n",
       "      <td>Icard, Miss. Amelie</td>\n",
       "      <td>female</td>\n",
       "      <td>38.0</td>\n",
       "      <td>0</td>\n",
       "      <td>0</td>\n",
       "      <td>113572</td>\n",
       "      <td>80.0</td>\n",
       "      <td>B28</td>\n",
       "      <td>NaN</td>\n",
       "    </tr>\n",
       "    <tr>\n",
       "      <td>829</td>\n",
       "      <td>830</td>\n",
       "      <td>1</td>\n",
       "      <td>1</td>\n",
       "      <td>Stone, Mrs. George Nelson (Martha Evelyn)</td>\n",
       "      <td>female</td>\n",
       "      <td>62.0</td>\n",
       "      <td>0</td>\n",
       "      <td>0</td>\n",
       "      <td>113572</td>\n",
       "      <td>80.0</td>\n",
       "      <td>B28</td>\n",
       "      <td>NaN</td>\n",
       "    </tr>\n",
       "  </tbody>\n",
       "</table>\n",
       "</div>"
      ],
      "text/plain": [
       "     PassengerId  Survived  Pclass                                       Name  \\\n",
       "61            62         1       1                        Icard, Miss. Amelie   \n",
       "829          830         1       1  Stone, Mrs. George Nelson (Martha Evelyn)   \n",
       "\n",
       "        Sex   Age  SibSp  Parch  Ticket  Fare Cabin Embarked  \n",
       "61   female  38.0      0      0  113572  80.0   B28      NaN  \n",
       "829  female  62.0      0      0  113572  80.0   B28      NaN  "
      ]
     },
     "execution_count": 12,
     "metadata": {},
     "output_type": "execute_result"
    }
   ],
   "source": [
    "# Mostra els valors nuls del dataframe d'entrenament\n",
    "titanic_train_raw[titanic_train_raw['Embarked'].isnull()]"
   ]
  },
  {
   "cell_type": "markdown",
   "metadata": {},
   "source": [
    "Tal com es recull en l'[article referent a Mrs Martha Evelyn Stone](https://www.encyclopedia-titanica.org/titanic-survivor/martha-evelyn-stone.html) de l'enciclopèdia titànica, aquestes passatgeres van embarcar al Titànic al port de Southampot, per tant, els correspon un valor d''*S*' en el camp '*Embarked*'. A continuació es realitza aquesta imputació."
   ]
  },
  {
   "cell_type": "code",
   "execution_count": 13,
   "metadata": {},
   "outputs": [],
   "source": [
    "# Imputacio manual del port d'embarcament\n",
    "titanic_train.loc[titanic_train['PassengerId']==62, ['Embarked']]='S'\n",
    "titanic_train.loc[titanic_train['PassengerId']==830, ['Embarked']]='S'"
   ]
  },
  {
   "cell_type": "code",
   "execution_count": 14,
   "metadata": {},
   "outputs": [
    {
     "data": {
      "text/html": [
       "<div>\n",
       "<style scoped>\n",
       "    .dataframe tbody tr th:only-of-type {\n",
       "        vertical-align: middle;\n",
       "    }\n",
       "\n",
       "    .dataframe tbody tr th {\n",
       "        vertical-align: top;\n",
       "    }\n",
       "\n",
       "    .dataframe thead th {\n",
       "        text-align: right;\n",
       "    }\n",
       "</style>\n",
       "<table border=\"1\" class=\"dataframe\">\n",
       "  <thead>\n",
       "    <tr style=\"text-align: right;\">\n",
       "      <th></th>\n",
       "      <th>PassengerId</th>\n",
       "      <th>Pclass</th>\n",
       "      <th>Name</th>\n",
       "      <th>Sex</th>\n",
       "      <th>Age</th>\n",
       "      <th>SibSp</th>\n",
       "      <th>Parch</th>\n",
       "      <th>Ticket</th>\n",
       "      <th>Fare</th>\n",
       "      <th>Cabin</th>\n",
       "      <th>Embarked</th>\n",
       "    </tr>\n",
       "  </thead>\n",
       "  <tbody>\n",
       "    <tr>\n",
       "      <td>152</td>\n",
       "      <td>1044</td>\n",
       "      <td>3</td>\n",
       "      <td>Storey, Mr. Thomas</td>\n",
       "      <td>male</td>\n",
       "      <td>60.5</td>\n",
       "      <td>0</td>\n",
       "      <td>0</td>\n",
       "      <td>3701</td>\n",
       "      <td>NaN</td>\n",
       "      <td>NaN</td>\n",
       "      <td>S</td>\n",
       "    </tr>\n",
       "  </tbody>\n",
       "</table>\n",
       "</div>"
      ],
      "text/plain": [
       "     PassengerId  Pclass                Name   Sex   Age  SibSp  Parch Ticket  \\\n",
       "152         1044       3  Storey, Mr. Thomas  male  60.5      0      0   3701   \n",
       "\n",
       "     Fare Cabin Embarked  \n",
       "152   NaN   NaN        S  "
      ]
     },
     "execution_count": 14,
     "metadata": {},
     "output_type": "execute_result"
    }
   ],
   "source": [
    "# Mostra els valors nuls del dataframe de test\n",
    "titanic_test_raw[titanic_test_raw['Fare'].isnull()]"
   ]
  },
  {
   "cell_type": "markdown",
   "metadata": {},
   "source": [
    "Tal com es recull en l'[article referent a Mr Thomas Storey](https://www.encyclopedia-titanica.org/titanic-victim/thomas-storey.html) de l'enciclopèdia titànica, aquest passatger es pot considerar tripulació i, per tant, se l'imputarà un preu de bitllet igual a zero. A continuació es realitza aquesta imputació."
   ]
  },
  {
   "cell_type": "code",
   "execution_count": 15,
   "metadata": {},
   "outputs": [],
   "source": [
    "# Imputacio manual del port d'embarcament\n",
    "titanic_test.loc[titanic_test['PassengerId']==1044, ['Fare']]=0"
   ]
  },
  {
   "cell_type": "markdown",
   "metadata": {},
   "source": [
    "A continuació s'imputen els valors nuls d'edat emprant el mètode missForest, cal comentar que s'utilitza la implementació de la llibreria ```missingpy``` que, en cas de no estar instal.lada, es pot instal·lar mitjançant la comanda ```pip install missingpy```, per a més informació al respecte, es pot consultar la [documentació de la llibreria missingpy](https://pypi.org/project/missingpy/). D'altra banda, també és important indicar que les variables categòriques s'han recodificat com vectors de tipus one-hot, per tal de poder ser interpretades correctament."
   ]
  },
  {
   "cell_type": "code",
   "execution_count": 16,
   "metadata": {},
   "outputs": [
    {
     "name": "stderr",
     "output_type": "stream",
     "text": [
      "/home/josepm/anaconda3/lib/python3.7/site-packages/missingpy/missforest.py:407: RuntimeWarning: invalid value encountered in long_scalars\n",
      "  (Ximp[:, self.cat_vars_] != Ximp_old[:, self.cat_vars_])) / n_catmissing\n"
     ]
    },
    {
     "name": "stdout",
     "output_type": "stream",
     "text": [
      "Iteration: 0\n"
     ]
    },
    {
     "name": "stderr",
     "output_type": "stream",
     "text": [
      "/home/josepm/anaconda3/lib/python3.7/site-packages/missingpy/missforest.py:407: RuntimeWarning: invalid value encountered in long_scalars\n",
      "  (Ximp[:, self.cat_vars_] != Ximp_old[:, self.cat_vars_])) / n_catmissing\n"
     ]
    },
    {
     "name": "stdout",
     "output_type": "stream",
     "text": [
      "Iteration: 1\n"
     ]
    },
    {
     "name": "stderr",
     "output_type": "stream",
     "text": [
      "/home/josepm/anaconda3/lib/python3.7/site-packages/missingpy/missforest.py:407: RuntimeWarning: invalid value encountered in long_scalars\n",
      "  (Ximp[:, self.cat_vars_] != Ximp_old[:, self.cat_vars_])) / n_catmissing\n"
     ]
    },
    {
     "name": "stdout",
     "output_type": "stream",
     "text": [
      "Iteration: 2\n"
     ]
    },
    {
     "name": "stderr",
     "output_type": "stream",
     "text": [
      "/home/josepm/anaconda3/lib/python3.7/site-packages/missingpy/missforest.py:407: RuntimeWarning: invalid value encountered in long_scalars\n",
      "  (Ximp[:, self.cat_vars_] != Ximp_old[:, self.cat_vars_])) / n_catmissing\n"
     ]
    },
    {
     "name": "stdout",
     "output_type": "stream",
     "text": [
      "Iteration: 0\n"
     ]
    },
    {
     "name": "stderr",
     "output_type": "stream",
     "text": [
      "/home/josepm/anaconda3/lib/python3.7/site-packages/missingpy/missforest.py:407: RuntimeWarning: invalid value encountered in long_scalars\n",
      "  (Ximp[:, self.cat_vars_] != Ximp_old[:, self.cat_vars_])) / n_catmissing\n"
     ]
    },
    {
     "name": "stdout",
     "output_type": "stream",
     "text": [
      "Iteration: 1\n"
     ]
    },
    {
     "name": "stderr",
     "output_type": "stream",
     "text": [
      "/home/josepm/anaconda3/lib/python3.7/site-packages/missingpy/missforest.py:407: RuntimeWarning: invalid value encountered in long_scalars\n",
      "  (Ximp[:, self.cat_vars_] != Ximp_old[:, self.cat_vars_])) / n_catmissing\n"
     ]
    },
    {
     "name": "stdout",
     "output_type": "stream",
     "text": [
      "Iteration: 2\n"
     ]
    },
    {
     "name": "stderr",
     "output_type": "stream",
     "text": [
      "/home/josepm/anaconda3/lib/python3.7/site-packages/missingpy/missforest.py:407: RuntimeWarning: invalid value encountered in long_scalars\n",
      "  (Ximp[:, self.cat_vars_] != Ximp_old[:, self.cat_vars_])) / n_catmissing\n"
     ]
    },
    {
     "name": "stdout",
     "output_type": "stream",
     "text": [
      "Iteration: 3\n"
     ]
    },
    {
     "name": "stderr",
     "output_type": "stream",
     "text": [
      "/home/josepm/anaconda3/lib/python3.7/site-packages/missingpy/missforest.py:407: RuntimeWarning: invalid value encountered in long_scalars\n",
      "  (Ximp[:, self.cat_vars_] != Ximp_old[:, self.cat_vars_])) / n_catmissing\n"
     ]
    },
    {
     "name": "stdout",
     "output_type": "stream",
     "text": [
      "Iteration: 4\n",
      "Iteration: 5\n"
     ]
    },
    {
     "name": "stderr",
     "output_type": "stream",
     "text": [
      "/home/josepm/anaconda3/lib/python3.7/site-packages/missingpy/missforest.py:407: RuntimeWarning: invalid value encountered in long_scalars\n",
      "  (Ximp[:, self.cat_vars_] != Ximp_old[:, self.cat_vars_])) / n_catmissing\n"
     ]
    }
   ],
   "source": [
    "# Preparació de les dades categoriques com vectors one-hot\n",
    "titanic_train = pd.get_dummies(titanic_train, ['Sex', 'Embarked'])\n",
    "titanic_test = pd.get_dummies(titanic_test, ['Sex', 'Embarked'])\n",
    "\n",
    "# Carrega la llibreria que conte la implementacio missForest\n",
    "from missingpy import MissForest\n",
    "\n",
    "# Imputa els valors nuls emprant el metode missForest tot indicant les columnes de valors categorics\n",
    "imputer = MissForest()\n",
    "X_imputed_train = imputer.fit_transform(\n",
    "                    titanic_train, cat_vars=[titanic_train.columns.get_loc('Sex_female'),\n",
    "                                        titanic_train.columns.get_loc('Sex_male'),\n",
    "                                        titanic_train.columns.get_loc('Embarked_C'),\n",
    "                                        titanic_train.columns.get_loc('Embarked_Q'),\n",
    "                                        titanic_train.columns.get_loc('Embarked_S')]\n",
    "                    )\n",
    "\n",
    "X_imputed_test = imputer.fit_transform(\n",
    "                    titanic_test, cat_vars=[titanic_test.columns.get_loc('Sex_female'),\n",
    "                                        titanic_test.columns.get_loc('Sex_male'),\n",
    "                                        titanic_test.columns.get_loc('Embarked_C'),\n",
    "                                        titanic_test.columns.get_loc('Embarked_Q'),\n",
    "                                        titanic_test.columns.get_loc('Embarked_S')]\n",
    "                    )\n",
    "\n",
    "\n",
    "# Converteix la matriu de sortida en un DataFrame\n",
    "titanic_train_final = pd.DataFrame(X_imputed_train, columns=titanic_train.columns.tolist())\n",
    "titanic_test_final = pd.DataFrame(X_imputed_test, columns=titanic_test.columns.tolist())"
   ]
  },
  {
   "cell_type": "markdown",
   "metadata": {},
   "source": [
    "Abans de continuar, hem de notar que totes les edats amb valors més grans o iguals a 1 no poden ser valors decimals, pel contrari totes les edats menors d'1 indiquen els mesos de vida, per tant s'arrodoneixen tots els valors obtinguts a la predicció."
   ]
  },
  {
   "cell_type": "code",
   "execution_count": 17,
   "metadata": {},
   "outputs": [],
   "source": [
    "r = []\n",
    "for i in titanic_train_final[\"Age\"]:\n",
    "    if i < 1:\n",
    "        r.append(round(i, 1))\n",
    "    else:\n",
    "        r.append(round(i))\n",
    "\n",
    "titanic_train_final[\"Age\"] = r"
   ]
  },
  {
   "cell_type": "markdown",
   "metadata": {},
   "source": [
    "Es repeteix el procediment anterior per les dades de test"
   ]
  },
  {
   "cell_type": "code",
   "execution_count": 18,
   "metadata": {},
   "outputs": [],
   "source": [
    "r = []\n",
    "for i in titanic_test_final[\"Age\"]:\n",
    "    if i < 1:\n",
    "        r.append(round(i, 1))\n",
    "    else:\n",
    "        r.append(round(i))\n",
    "\n",
    "titanic_test_final[\"Age\"] = r"
   ]
  },
  {
   "cell_type": "markdown",
   "metadata": {},
   "source": [
    "### 3.2 Anàlisi valors extrems"
   ]
  },
  {
   "cell_type": "markdown",
   "metadata": {},
   "source": [
    "**Conjunt d'entrenament**"
   ]
  },
  {
   "cell_type": "markdown",
   "metadata": {},
   "source": [
    "Per trobar i facilitar l'enteniment dels valors extrems de les variables numèriques es realitza un gràfic boxplot  que ens permeti identificar ràpidament si tenim valors extrems a les nostres dades. Considerant valors extrems aquells valors que es trobin allunyats 3 desviacions estàndard respecte de la mitjana del conjunt."
   ]
  },
  {
   "cell_type": "code",
   "execution_count": 19,
   "metadata": {},
   "outputs": [
    {
     "data": {
      "image/png": "[encoded data removed]",
      "text/plain": [
       "<Figure size 1440x360 with 1 Axes>"
      ]
     },
     "metadata": {
      "needs_background": "light"
     },
     "output_type": "display_data"
    }
   ],
   "source": [
    "# Conjunt de varialbes numeriques a analitzar valors extrems\n",
    "numeric_cols = ['Age', 'SibSp', 'Parch', 'Fare']\n",
    "\n",
    "# Boxplot pel conjunt de variables numeriques\n",
    "ax = plt.subplots(1, 1, figsize=(20, 5))\n",
    "ax = sns.boxplot(data=titanic_train_final[numeric_cols])"
   ]
  },
  {
   "cell_type": "markdown",
   "metadata": {},
   "source": [
    "En aquesta primera visualització s'observa que les dades que tenen valors extrems són les variables *Age, SibSp, Parch, Fare*. Aquestes variables són les que s'analitzen a continuació, per tal de discriminar quins valors es poden considerar que estan fora de rang i quins no.\n",
    "\n",
    "* En el cas de l'edad tenim que el valor màxim és 80, per tant aquests valors són totalment normals, ja que encara que hi hagin poques persones grans és possible que un passanger del titanic tingui 80 anys, encara que no sigui molt comú és possible, per tant aquesta variable no la considerarem en el cas de valors outliers.\n",
    "\n",
    "* La variable *SibSp*, és la variable que descriu el # de germans / mullers a bord del titanic, aquesta variable s'estudia a continuació."
   ]
  },
  {
   "cell_type": "code",
   "execution_count": 20,
   "metadata": {},
   "outputs": [
    {
     "data": {
      "image/png": "[encoded data removed]",
      "text/plain": [
       "<Figure size 1440x360 with 1 Axes>"
      ]
     },
     "metadata": {
      "needs_background": "light"
     },
     "output_type": "display_data"
    }
   ],
   "source": [
    "ax = plt.subplots(1, 1, figsize=(20, 5))\n",
    "ax = sns.boxplot(data=titanic_train_final[[ \"SibSp\"]])"
   ]
  },
  {
   "cell_type": "code",
   "execution_count": 21,
   "metadata": {},
   "outputs": [
    {
     "name": "stdout",
     "output_type": "stream",
     "text": [
      "     PassengerId  Survived  Pclass   Age  SibSp  Parch   Fare  Sex_female  \\\n",
      "159        160.0       0.0     3.0   9.0    8.0    2.0  69.55         0.0   \n",
      "180        181.0       0.0     3.0  11.0    8.0    2.0  69.55         1.0   \n",
      "201        202.0       0.0     3.0   9.0    8.0    2.0  69.55         0.0   \n",
      "324        325.0       0.0     3.0   8.0    8.0    2.0  69.55         0.0   \n",
      "792        793.0       0.0     3.0  11.0    8.0    2.0  69.55         1.0   \n",
      "846        847.0       0.0     3.0   8.0    8.0    2.0  69.55         0.0   \n",
      "863        864.0       0.0     3.0   9.0    8.0    2.0  69.55         1.0   \n",
      "\n",
      "     Sex_male  Embarked_C  Embarked_Q  Embarked_S  \n",
      "159       1.0         0.0         0.0         1.0  \n",
      "180       0.0         0.0         0.0         1.0  \n",
      "201       1.0         0.0         0.0         1.0  \n",
      "324       1.0         0.0         0.0         1.0  \n",
      "792       0.0         0.0         0.0         1.0  \n",
      "846       1.0         0.0         0.0         1.0  \n",
      "863       0.0         0.0         0.0         1.0  \n"
     ]
    }
   ],
   "source": [
    "print(titanic_train_final[titanic_train_final[\"SibSp\"] == 8])"
   ]
  },
  {
   "cell_type": "markdown",
   "metadata": {},
   "source": [
    "S'observa que les edats predites i el valor 8 en *SibSp* tenen sentit, ja que hi ha un parell de bessons de 9 anys, que, per tant no són dades incoherents, en altres paraules, encara que tinguin un valor extrany o poc comú no són valors incoherents i per tant s'eliminaran ni tractaran d'una manera diferent."
   ]
  },
  {
   "cell_type": "markdown",
   "metadata": {},
   "source": [
    "* La variable *Parch* fa referencia al nombre de pares o fills a bord del titanic, també conté valors extrems que s'estudien a continuació:"
   ]
  },
  {
   "cell_type": "code",
   "execution_count": 22,
   "metadata": {},
   "outputs": [
    {
     "data": {
      "image/png": "[encoded data removed]",
      "text/plain": [
       "<Figure size 1440x360 with 1 Axes>"
      ]
     },
     "metadata": {
      "needs_background": "light"
     },
     "output_type": "display_data"
    }
   ],
   "source": [
    "ax = plt.subplots(1, 1, figsize=(20, 5))\n",
    "ax = sns.boxplot(data=titanic_train_final[[ \"Parch\"]])"
   ]
  },
  {
   "cell_type": "markdown",
   "metadata": {},
   "source": [
    "En aquest cas tampoc es consideren valors extrems ja que al igual que en el cas de la variable *SibSp*, efectivament, hi ha valors poc comuns però aquests, no són valors incoherents o impossibles."
   ]
  },
  {
   "cell_type": "markdown",
   "metadata": {},
   "source": [
    "* La variable *Fare*, la qual fa referencia a la tarifa pels passatgers, té valors extrems que s'analitzen a continuació:"
   ]
  },
  {
   "cell_type": "code",
   "execution_count": 23,
   "metadata": {},
   "outputs": [
    {
     "data": {
      "image/png": "[encoded data removed]",
      "text/plain": [
       "<Figure size 1440x360 with 1 Axes>"
      ]
     },
     "metadata": {
      "needs_background": "light"
     },
     "output_type": "display_data"
    }
   ],
   "source": [
    "ax = plt.subplots(1, 1, figsize=(20, 5))\n",
    "ax = sns.boxplot(data=titanic_train_final[[ \"Fare\"]])"
   ]
  },
  {
   "cell_type": "markdown",
   "metadata": {},
   "source": [
    "Encara que matemàticament es consideri que aquests valors són extrems (per sobre de 3 desviacions estàndard) realment no ho són, el que tenim, és que majoritàriament les tarifes no són cares, però sí que tenim alguna tarifa molt més cara que la resta, de fet, avui en dia ens podem trobar a la mateixa situació quan viatgem en un vol intercontinental per exemple, majoritàriament les tarifes tendeixen a estar en un rang de preus, però també tenim una primera classe (amb molts menys seients) que fa que hi hagi tarifes molt per sobre de les classes convencionals."
   ]
  },
  {
   "cell_type": "markdown",
   "metadata": {},
   "source": [
    "**Conjunt de test**"
   ]
  },
  {
   "cell_type": "code",
   "execution_count": 24,
   "metadata": {},
   "outputs": [
    {
     "data": {
      "image/png": "[encoded data removed]",
      "text/plain": [
       "<Figure size 1440x360 with 1 Axes>"
      ]
     },
     "metadata": {
      "needs_background": "light"
     },
     "output_type": "display_data"
    }
   ],
   "source": [
    "ax = plt.subplots(1, 1, figsize=(20, 5))\n",
    "ax = sns.boxplot(data=titanic_test_final[numeric_cols])"
   ]
  },
  {
   "cell_type": "markdown",
   "metadata": {},
   "source": [
    "S'observa una situació molt similar que en el dataset de train, per tant, no tornarem a fer el mateix raonament que ja hem fet i el que farem serà aplicar directament el canvi aplicat al dataset de train:"
   ]
  },
  {
   "cell_type": "markdown",
   "metadata": {},
   "source": [
    "# 4 i 5. Anàlisi de les dades i representació gràfica dels resultats"
   ]
  },
  {
   "cell_type": "markdown",
   "metadata": {},
   "source": [
    "### 4.1 Selecció dels grups de dades que es volen analitzar/comparar (planificació de les anàlisis a aplicar)."
   ]
  },
  {
   "cell_type": "markdown",
   "metadata": {},
   "source": [
    "Per saber quins grups de dades es seleccionaran, es realitza una anàlisi exploratoria visual de les diferents dades, per veure quina informació es disposa i quina selecció de grups es considera més convenient per dur a terme l'analisi."
   ]
  },
  {
   "cell_type": "markdown",
   "metadata": {},
   "source": [
    "#### Exploració de la variable Age:"
   ]
  },
  {
   "cell_type": "code",
   "execution_count": 25,
   "metadata": {},
   "outputs": [
    {
     "data": {
      "image/png": "[encoded data removed]",
      "text/plain": [
       "<Figure size 1080x576 with 1 Axes>"
      ]
     },
     "metadata": {
      "needs_background": "light"
     },
     "output_type": "display_data"
    }
   ],
   "source": [
    "plt.figure(figsize=(15, 8))\n",
    "\n",
    "plt.hist(titanic_train_final[\"Age\"][titanic_train_final.Survived == 1], \n",
    "             bins=60, color=\"darkturquoise\", label=\"Survived\", alpha=0.5)\n",
    "plt.hist(titanic_train_final[\"Age\"][titanic_train_final.Survived == 0], \n",
    "             bins=60, color=\"lightcoral\", label=\"Died\", alpha=0.5)\n",
    "plt.xlabel(\"Age\")\n",
    "plt.ylabel(\"Frequency\")\n",
    "plt.legend(loc=1)\n",
    "plt.xlim(0, 80)\n",
    "plt.title(\"Histogram Plot of Age for Surviving and Decease Population\");"
   ]
  },
  {
   "cell_type": "markdown",
   "metadata": {},
   "source": [
    "S'observa que les dues distribucions són molt similars, és normal, ja que la majoria de l'edat de la població es concentra entre els 15 i els 60 anys, per tant és normal que les dues distribucions siguin similars, on sí que es veu realment una diferència notable entre aquestes, és en els nens (entre els 0 i els 16), és a dir una major proporció de supervivents eren nens i posa de manifest que les persones grans els hi van donar un lloc a les barques salvavides."
   ]
  },
  {
   "cell_type": "markdown",
   "metadata": {},
   "source": [
    "#### Exploració de la variable Fare:"
   ]
  },
  {
   "cell_type": "code",
   "execution_count": 26,
   "metadata": {},
   "outputs": [
    {
     "data": {
      "image/png": "[encoded data removed]",
      "text/plain": [
       "<Figure size 1080x576 with 1 Axes>"
      ]
     },
     "metadata": {
      "needs_background": "light"
     },
     "output_type": "display_data"
    }
   ],
   "source": [
    "plt.figure(figsize=(15, 8))\n",
    "\n",
    "plt.hist(titanic_train_final[\"Fare\"][titanic_train_final.Survived == 1], \n",
    "             bins=40, color=\"darkturquoise\", label=\"Survived\", alpha=0.5)\n",
    "plt.hist(titanic_train_final[\"Fare\"][titanic_train_final.Survived == 0], \n",
    "             bins=40, color=\"lightcoral\", label=\"Died\", alpha=0.5)\n",
    "plt.xlabel(\"Fare\")\n",
    "plt.ylabel(\"Frequency\")\n",
    "plt.legend(loc=1)\n",
    "plt.xlim(0,520)\n",
    "plt.title(\"Histogram Plot of Fare for Surviving and Decease Population\");"
   ]
  },
  {
   "cell_type": "markdown",
   "metadata": {},
   "source": [
    "A diferencia de la variable *Age* s'observa que les distribucions són clarament diferents per les tarifes dels supervivents comparades amb els morts, per tant, indica que la variable *Fare* serà un bon predictor a l'hora de dur a terme el nostre model final. Si s'observa en detall la distribució, els passatgers que han pagat una tarifa més baixa han tingut menys probabilitat de sobreviure que els que han pagat una tarifa més alta.\n",
    "\n",
    "La tarifa segurament estarà fortament correlacionada amb la classe, ja que les tarifes de classes més altes per les classes més altes, per tant, segurament aquesta informació ha d'estar fortament correlacionada amb la variable PClass. A continuació es mostra l'histograma de la tarifa segons les tres classes i es pot observar clarament aquest comportament."
   ]
  },
  {
   "cell_type": "code",
   "execution_count": 27,
   "metadata": {},
   "outputs": [
    {
     "data": {
      "image/png": "[encoded data removed]",
      "text/plain": [
       "<Figure size 1080x576 with 1 Axes>"
      ]
     },
     "metadata": {
      "needs_background": "light"
     },
     "output_type": "display_data"
    }
   ],
   "source": [
    "plt.figure(figsize=(15, 8))\n",
    "\n",
    "plt.hist(titanic_train_final[\"Fare\"][titanic_train_final[\"Pclass\"]==1], \n",
    "             bins=40, color=\"darkturquoise\", label=\"1rst\",alpha=0.5)\n",
    "\n",
    "plt.hist(titanic_train_final[\"Fare\"][titanic_train_final[\"Pclass\"]==2], \n",
    "             bins=40, color=\"lightcoral\", label=\"2nd\",alpha=0.5)\n",
    "\n",
    "plt.hist(titanic_train_final[\"Fare\"][titanic_train_final[\"Pclass\"]==3], \n",
    "             bins=40, color=\"g\", label=\"3rd\",alpha=0.5)\n",
    "\n",
    "plt.xlabel(\"Fare\")\n",
    "plt.ylabel(\"Frequency\")\n",
    "plt.legend(title=\"Class\", loc=1)\n",
    "plt.xlim(0,520)\n",
    "plt.title(\"Histogram Plot of Fare for each class\");"
   ]
  },
  {
   "cell_type": "markdown",
   "metadata": {},
   "source": [
    "#### Exploració de la variable PClass:"
   ]
  },
  {
   "cell_type": "code",
   "execution_count": 28,
   "metadata": {},
   "outputs": [
    {
     "data": {
      "image/png": "[encoded data removed]",
      "text/plain": [
       "<Figure size 432x288 with 1 Axes>"
      ]
     },
     "metadata": {
      "needs_background": "light"
     },
     "output_type": "display_data"
    }
   ],
   "source": [
    "sns.barplot('Pclass', 'Survived', data=titanic_train_final, color=\"teal\")\n",
    "plt.show()"
   ]
  },
  {
   "cell_type": "markdown",
   "metadata": {},
   "source": [
    "Aquí s'observa, tal i com s'havia indicat en l'apartat anterior, aquells passatgers que viatgin en primera classe tenen més probabilitats de sobreviure que aquells que viatgen en les altres classes, com era d'esperar."
   ]
  },
  {
   "cell_type": "markdown",
   "metadata": {},
   "source": [
    "#### Exploració de la variable Embarked:"
   ]
  },
  {
   "cell_type": "code",
   "execution_count": 29,
   "metadata": {},
   "outputs": [
    {
     "data": {
      "image/png": "[encoded data removed]",
      "text/plain": [
       "<Figure size 432x288 with 1 Axes>"
      ]
     },
     "metadata": {
      "needs_background": "light"
     },
     "output_type": "display_data"
    }
   ],
   "source": [
    "sns.barplot('Embarked', 'Survived', data=titanic_train_raw, color=\"teal\")\n",
    "plt.show()"
   ]
  },
  {
   "cell_type": "markdown",
   "metadata": {},
   "source": [
    "Veiem doncs que els passatgers que van embarcar a Cherbourg, tenen la taxa més gran de supervivència i els passatgers que van embarcar a Southhampton tenen una taxa marginalment menor de supervivència que el que van embarcar a Queenstown, segurament aquesta diferència és causada per la classe dels passatgers o amb l'ordre d'assignació de les habitacions, ja que els passatgers que embarquen abans tenen les habitacions més a prop de coberta.\n",
    "\n",
    "També val la pena mencionar que com que la majoria de passatgers van embarcar a Cherbourg la confiança entorn de la supervivència és la més alta, en altres paraules, com la majoria de gent va embarcar a Cherbourg és lògic que la majoria de gent que sobreviu sigui d'aquest embarcament, ja que componen la majoria de passatgers."
   ]
  },
  {
   "cell_type": "markdown",
   "metadata": {},
   "source": [
    "#### Exploració de la variable Sex:"
   ]
  },
  {
   "cell_type": "code",
   "execution_count": 30,
   "metadata": {},
   "outputs": [
    {
     "data": {
      "image/png": "[encoded data removed]",
      "text/plain": [
       "<Figure size 432x288 with 1 Axes>"
      ]
     },
     "metadata": {
      "needs_background": "light"
     },
     "output_type": "display_data"
    }
   ],
   "source": [
    "sns.barplot('Sex', 'Survived', data=titanic_train_raw, color=\"teal\")\n",
    "plt.show()"
   ]
  },
  {
   "cell_type": "markdown",
   "metadata": {},
   "source": [
    "En aquest cas s'observa que el fet de ser dona implica, clarament, una avantatge de supervivència davant de ser home. Així doncs, la frase, en cas d'evacuació de: \"dones i nens primer\", sembla que es va acomplir en el cas de l'evacuació del Titànic."
   ]
  },
  {
   "cell_type": "markdown",
   "metadata": {},
   "source": [
    "**Comentari:**\n",
    "\n",
    "En aquest cas hem vist com es comporten les diferents variables del dataset seleccionades anteriorment, de moment podem fer servir totes, tot i que també és possible només seleccionar Fare o class, en funció del mètode final que volem fer servir."
   ]
  },
  {
   "cell_type": "markdown",
   "metadata": {},
   "source": [
    "### 4.2 Comprovació de la normalitat i homogeneïtat de la variància"
   ]
  },
  {
   "cell_type": "markdown",
   "metadata": {},
   "source": [
    "Després de l'anàlisi anterior s'opta per analitzar els grups de dades següents:\n",
    "* Homes vs Dones\n",
    "* 0-5 anys vs >5 anys\n",
    "* Classe 1 vs Classe 2 vs Classe 3\n",
    "\n",
    "D'aquesta manera, per cadascuna de les agrupacions anteriors, s'analitzarà si la supervivència és significativament diferents, mitjançant les proves estadístiques corresponents. Prèviament, però, cal estudiar si les agrupacions anteriors acompleixen normalitat i homoscedasticitat (igualtat de variàncies).\n",
    "\n",
    "A continuació es seleccionen les dades de les diferents agrupacions i es comprova la quantitat.\n"
   ]
  },
  {
   "cell_type": "code",
   "execution_count": 31,
   "metadata": {},
   "outputs": [
    {
     "name": "stdout",
     "output_type": "stream",
     "text": [
      "L'agrupació de Dones té 314 elements vs Homes que té 577 elements.\n",
      "L'agrupació de 0-5 anys té 44 elements vs >5 anys que té 847 elements.\n",
      "L'agrupació de 1a classe té 216 elements vs 2a classe que té 184 elements i 3a classe que té 491.\n"
     ]
    }
   ],
   "source": [
    "# Agrupacio Homes vs Dones\n",
    "female_sur = titanic_train_final[titanic_train_final['Sex_female']==1]['Survived']\n",
    "male_sur = titanic_train_final[titanic_train_final['Sex_male']==1]['Survived']\n",
    "print(\"L'agrupació de Dones té {} elements vs Homes que té {} elements.\".format(female_sur.size, male_sur.size))\n",
    "\n",
    "# Agrupacio 0-5 vs >5 anys\n",
    "chil_sur = titanic_train_final[titanic_train_final['Age']<=5]['Survived']\n",
    "not_chil_sur = titanic_train_final[titanic_train_final['Age']>5]['Survived']\n",
    "print(\"L'agrupació de 0-5 anys té {} elements vs >5 anys que té {} elements.\".format(chil_sur.size, not_chil_sur.size))\n",
    "\n",
    "# Agrupacio Pclass1 vs Pclass2 vs Pclass3\n",
    "PC1_sur = titanic_train_final[titanic_train_final['Pclass']==1]['Survived']\n",
    "PC2_sur = titanic_train_final[titanic_train_final['Pclass']==2]['Survived']\n",
    "PC3_sur = titanic_train_final[titanic_train_final['Pclass']==3]['Survived']\n",
    "print(\"L'agrupació de 1a classe té {} elements vs 2a classe que té {} elements i 3a classe que té {}.\"\n",
    "      .format(PC1_sur.size, PC2_sur.size, PC3_sur.size))"
   ]
  },
  {
   "cell_type": "markdown",
   "metadata": {},
   "source": [
    "Una vegada realitzada l'agrupació de les dades, s'observa que, per cada grup, el nombre de dades és significativament gran (major a 30), amb el que es considera aplicable el Teorema del Límit Central i, per tant, es suposa la **normalitat de les mitjanes per a totes les agrupacions estudiades**.\n",
    "\n",
    "A continuació s'estudia l'homogeneïtat de la variància, és a dir, l'homoscedasticitat per cadascuna de les agrupacions, per a fer-ho s'emprarà el test de [Levene](https://docs.scipy.org/doc/scipy-0.14.0/reference/generated/scipy.stats.levene.html) que està implementat en la llibreria de scipy de Python, mitjançant el qual la hipòtesis nul.la és la igualtat de variancies.\n"
   ]
  },
  {
   "cell_type": "code",
   "execution_count": 32,
   "metadata": {},
   "outputs": [
    {
     "data": {
      "text/plain": [
       "LeveneResult(statistic=5.804100632617495, pvalue=0.016191248809611765)"
      ]
     },
     "execution_count": 32,
     "metadata": {},
     "output_type": "execute_result"
    }
   ],
   "source": [
    "# Carrega la funcio del test de Levene\n",
    "from scipy.stats import levene\n",
    "\n",
    "# Test homoscedasticitat agrupacio Homes vs Dones\n",
    "levene(female_sur, male_sur)"
   ]
  },
  {
   "cell_type": "markdown",
   "metadata": {},
   "source": [
    "Es pot observar que, per a un nivell de significació raonable de 0.05, el pvalue és inferior al nivell de significació i, per tant, es rebutja la hipòtesis nul.la, és a dir, **les variancies són significativament diferents en l'agrupació Homes vs Dones**."
   ]
  },
  {
   "cell_type": "code",
   "execution_count": 33,
   "metadata": {},
   "outputs": [
    {
     "data": {
      "text/plain": [
       "LeveneResult(statistic=0.9287289611143352, pvalue=0.3354554836424125)"
      ]
     },
     "execution_count": 33,
     "metadata": {},
     "output_type": "execute_result"
    }
   ],
   "source": [
    "# Test homoscedasticitat agrupacio 0-5 vs >5 anys\n",
    "levene(chil_sur, not_chil_sur)"
   ]
  },
  {
   "cell_type": "markdown",
   "metadata": {},
   "source": [
    "En aquests cas el pvalue és superior al nivell de significació i, per tant, s'accepta la hipòtesis nul.la, és a dir, **les variancies són significativament iguals en l'agrupació 0-5anys vs >5 anys**."
   ]
  },
  {
   "cell_type": "code",
   "execution_count": 34,
   "metadata": {},
   "outputs": [
    {
     "data": {
      "text/plain": [
       "LeveneResult(statistic=18.58999556746011, pvalue=1.232849105549549e-08)"
      ]
     },
     "execution_count": 34,
     "metadata": {},
     "output_type": "execute_result"
    }
   ],
   "source": [
    "# Test homoscedasticitat agrupacio Pclass1 vs Pclass2 vs Pclass3\n",
    "levene(PC1_sur, PC2_sur, PC3_sur)"
   ]
  },
  {
   "cell_type": "markdown",
   "metadata": {},
   "source": [
    "Finalment, en aquesta darrera agrupació, es rebutja la hipòtesis nul.la i, per tant, es pot afirmar que **les variancies són significativament diferents en l'agrupació per classes**."
   ]
  },
  {
   "cell_type": "markdown",
   "metadata": {},
   "source": [
    "### 4.3 Aplicació de proves estadístiques per comparar els grups de dades.\n",
    "**En funció de les dades i de l'objectiu de l'estudi, aplicar proves de constrast d'hipòtesis, correlacions, regressions, etc. Aplicar almenys tres mètodes d'anàlisi diferents.**"
   ]
  },
  {
   "cell_type": "markdown",
   "metadata": {},
   "source": [
    "En aquest apartat i segons la informació obtinguda en els anteriors apartats, es realitzaran les següents anàlisis:\n",
    "* **Proves de contrast d'hipòtesis** per tal de poder afirmar si existeixen diferències estadístiques significatives entre els diferents grups de dades definits. \n",
    "* **Tests de models predictius** per tal de poder obtenir prediccions sobre la supervivència d'un determinat element. TODO I EXPLICAR QUINS MODELS S'APLICARAN!!"
   ]
  },
  {
   "cell_type": "markdown",
   "metadata": {},
   "source": [
    "#### Proves de contrast d'hipòtesis"
   ]
  },
  {
   "cell_type": "markdown",
   "metadata": {},
   "source": [
    "Per l'agrupació Homes vs Dones, s'ha vist que presenta heteroscedasticitat i normalitat, per tant, és aplicable el [test de Welch's](https://en.wikipedia.org/wiki/Welch%27s_t-test) que està implementat en la llibreria d'scipy de Python (definint el paràmetre d'igualtat de variàncies a False) mitjançant el qual, la hipòtesis nul.la suposa igualtat de mitjanes."
   ]
  },
  {
   "cell_type": "code",
   "execution_count": 35,
   "metadata": {},
   "outputs": [
    {
     "data": {
      "text/plain": [
       "Ttest_indResult(statistic=18.67183317725917, pvalue=2.2836009226010537e-61)"
      ]
     },
     "execution_count": 35,
     "metadata": {},
     "output_type": "execute_result"
    }
   ],
   "source": [
    "# Carrega la funcio del test de Welch\n",
    "from scipy.stats import ttest_ind\n",
    "\n",
    "# Test de Welch agrupacio Homes vs Dones\n",
    "ttest_ind(female_sur, male_sur, equal_var=False)"
   ]
  },
  {
   "cell_type": "markdown",
   "metadata": {},
   "source": [
    "Segons aquest resultat, donat que el pvalue és inferior al valor de significació, es pot afirmar que **s'observen diferències significatives en la supervivència entre els homes i les dones**.\n",
    "\n",
    "D'altra banda, l'agrupació 0-5anys vs >5 anys, segons els apartats anteriors, presenta homoscedasticitat i normalitat, per tant, és aplicable el [test d'Student](https://docs.scipy.org/doc/scipy/reference/generated/scipy.stats.ttest_ind.html) que està implementat en la mateixa llibreria i funció d'scipy de Python que en el cas anterior, ara, però, definint el paràmetre d'igualtat de variàncies a True on, a l'igual que abans, la hipòtesis nul.la suposa igualtat de les mitjanes."
   ]
  },
  {
   "cell_type": "code",
   "execution_count": 36,
   "metadata": {},
   "outputs": [
    {
     "data": {
      "text/plain": [
       "Ttest_indResult(statistic=4.532986765652012, pvalue=6.6107330947308955e-06)"
      ]
     },
     "execution_count": 36,
     "metadata": {},
     "output_type": "execute_result"
    }
   ],
   "source": [
    "# Test d'Student agrupacio 0-5 vs >5 anys\n",
    "ttest_ind(chil_sur, not_chil_sur, equal_var=True)"
   ]
  },
  {
   "cell_type": "markdown",
   "metadata": {},
   "source": [
    "Veient el resultat obtingut, ja que el pvalue és inferior al valor de significació, es pot afirmar que **s'observen diferències significatives en la supervivència entre la població de 0 a 5 anys i els majors de 5 anys**.\n",
    "\n",
    "Finalment, per analitzar l'agrupació segons la classe del passatger, donat que és una comparació entre més de dos grups, en aquest cas tres on, tot i acomplir-se la normalitat, no hi ha igualtat de variàncies, es realitza el [test de Kruskal-Wallis](https://docs.scipy.org/doc/scipy/reference/generated/scipy.stats.kruskal.html) que està implementat en la llibreria d'scipy de Python, igualment, es contrastaran les agrupacions dos a dos emprant el test de Welch anteriorment descrit."
   ]
  },
  {
   "cell_type": "code",
   "execution_count": 37,
   "metadata": {},
   "outputs": [
    {
     "name": "stdout",
     "output_type": "stream",
     "text": [
      "Kruskal-Wallis test: KruskalResult(statistic=102.77351289976991, pvalue=4.819647000539969e-23)\n",
      "Welch test for PClass1 vs PClass2: Ttest_indResult(statistic=3.1700336636550834, pvalue=0.0016466817069658033)\n",
      "Welch test for PClass1 vs PClass3: Ttest_indResult(statistic=10.137416952438056, pvalue=1.7917137736178107e-21)\n",
      "Welch test for PClass2 vs PClass3: Ttest_indResult(statistic=5.529987345441652, pvalue=7.161251272971601e-08)\n"
     ]
    }
   ],
   "source": [
    "# Carrega la funcio del test de Kruskal-Wallis\n",
    "from scipy.stats import kruskal\n",
    "\n",
    "# Test de Kruskal-Wallis agrupacio Pclass1 vs Pclass2 vs Pclass3\n",
    "print('Kruskal-Wallis test:',kruskal(PC1_sur, PC2_sur, PC3_sur))\n",
    "\n",
    "# Test de Welch agrupacio Pclass1 vs Pclass2\n",
    "print('Welch test for PClass1 vs PClass2:',ttest_ind(PC1_sur, PC2_sur, equal_var=False))\n",
    "\n",
    "# Test de Welch agrupacio Pclass1 vs Pclass3\n",
    "print('Welch test for PClass1 vs PClass3:',ttest_ind(PC1_sur, PC3_sur, equal_var=False))\n",
    "\n",
    "# Test de Welch agrupacio Pclass2 vs Pclass3\n",
    "print('Welch test for PClass2 vs PClass3:',ttest_ind(PC2_sur, PC3_sur, equal_var=False))"
   ]
  },
  {
   "cell_type": "markdown",
   "metadata": {},
   "source": [
    "Dels resultats obtinguts, donat que tots els pvalues són inferiors al valor de significació, es pot afirmar que **s'observen diferències significatives en la supervivència entre la població segons la classe del bitllet**, igualment, també es comprova que **existeixen diferències significatives entre totes les classes**, segons es pot comprovar del resultat obtingut en els tests de Welch duts a terme contrastant les agrupacions dos a dos.\n",
    "\n",
    "Com a conclusió final d'aquest apartat, indicar que els diferents contrasts d'hipòtesis duts a terme confirmen el que ja s'havia observat en l'anàlisis descriptiva de les diferents variables realitzada en l'apartat 4.1."
   ]
  },
  {
   "cell_type": "markdown",
   "metadata": {},
   "source": [
    "#### Tests de models predictius"
   ]
  },
  {
   "cell_type": "markdown",
   "metadata": {},
   "source": [
    "Per dur a terme la predicció d'aquest projecte s'estudiaran 3 models diferents **(Si puc implementaré un model de tipus Stacking o Cascading per la predicció)**. Concretament s'entrenaran els models de [regressió lògistica](https://scikit-learn.org/stable/modules/generated/sklearn.linear_model.LogisticRegression.html), [vectors de suport](https://scikit-learn.org/stable/modules/generated/sklearn.svm.SVC.html) i [veïns més propers](https://scikit-learn.org/stable/modules/generated/sklearn.neighbors.KNeighborsClassifier.html).\n",
    "\n",
    "Per tal de poder avaluar de manera correcta el millor model de predicció, es dividirà el conjunt de dades d'entrenament en dos conjunts, un d'entrenament pròpiament i un altre de validació que serà el que permetrà elegir el millor model predictiu que, posteriorment, serà l'emprat per realitzar la predicció en el conjunt de dades de test (que ja ha vingut donat de manera segregada). Així doncs, es disposaran de tres conjunts de dades independents: entrenament (train), validació (validation) i test.\n",
    "\n",
    "Cal indicar que la segregació de les dades d'entrenament es realitzarà en base als coneixements adquirits en els apartats anteriors i, per tant, es realitzarà una selecció aleatòria però estratificada segons el sexe, ja que s'ha comprovat que és l'agrupació amb diferències estadístiques més significatives. Finalment, comentar que s'ha fet una divisió de les dades amb la proporció 60-40 (entrenament-validació)."
   ]
  },
  {
   "cell_type": "code",
   "execution_count": 38,
   "metadata": {},
   "outputs": [],
   "source": [
    "# Importem la llibreria per fer la partició del nostre dataset\n",
    "from sklearn.model_selection import train_test_split\n",
    "#from sklearn.preprocessing import MinMaxScaler\n",
    "\n",
    "# Preparacio de la variable categorica de classe com vectors one-hot\n",
    "titanic_train_final = pd.get_dummies(titanic_train_final, columns=['Pclass'])\n",
    "titanic_test_final = pd.get_dummies(titanic_test_final, columns=['Pclass'])\n",
    "\n",
    "# Separacio de la columna depenent de la resta de variables\n",
    "X = titanic_train_final.iloc[:,2:]\n",
    "y = titanic_train_final['Survived']\n",
    "\n",
    "# Es divideix el conjunt dades en dos conjunts: train i validacio, s'empra un random_state per tal de ser reproduible\n",
    "X_train, X_val, y_train, y_val = train_test_split(X, y, test_size=0.4, stratify=X['Sex_female'], random_state=101)"
   ]
  },
  {
   "cell_type": "markdown",
   "metadata": {},
   "source": [
    "##### Regressió lògistica"
   ]
  },
  {
   "cell_type": "markdown",
   "metadata": {},
   "source": [
    "El primer mètode que es mostra és una [regressió logística](https://es.wikipedia.org/wiki/Regresión_log%C3%ADstica), per predir la variable categorica *Survived*."
   ]
  },
  {
   "cell_type": "code",
   "execution_count": 39,
   "metadata": {},
   "outputs": [
    {
     "name": "stdout",
     "output_type": "stream",
     "text": [
      "La precisió mitjana en el conjunt de dades de validació és del 0.8123\n",
      "\n",
      "------- Matriu de confusió -------\n",
      "[[189  28]\n",
      " [ 39 101]] \n",
      "\n",
      "------- Classification report -------\n",
      "              precision    recall  f1-score   support\n",
      "\n",
      "         0.0       0.83      0.87      0.85       217\n",
      "         1.0       0.78      0.72      0.75       140\n",
      "\n",
      "   micro avg       0.81      0.81      0.81       357\n",
      "   macro avg       0.81      0.80      0.80       357\n",
      "weighted avg       0.81      0.81      0.81       357\n",
      "\n"
     ]
    }
   ],
   "source": [
    "from sklearn.linear_model import LogisticRegression\n",
    "from sklearn.metrics import confusion_matrix, classification_report\n",
    "\n",
    "# Definim la regressió\n",
    "logreg = LogisticRegression(solver='lbfgs', max_iter=1000)\n",
    "clf = logreg.fit(X_train, y_train)\n",
    "\n",
    "# Predicció del conjunt de validacio i calcul de la precisio\n",
    "y_val_pred = clf.predict(X_val)\n",
    "acc_logit = clf.score(X_val, y_val)\n",
    "\n",
    "\n",
    "print(\"La precisió mitjana en el conjunt de dades de validació és del {:.4f}\\n\"\n",
    "      .format(acc_logit))\n",
    "\n",
    "print(\"------- Matriu de confusió -------\")\n",
    "print(confusion_matrix(y_val, y_val_pred),'\\n')\n",
    "\n",
    "print(\"------- Classification report -------\")\n",
    "print(classification_report(y_val, y_val_pred))\n",
    "\n",
    "#cm = confusion_matrix(y_test, y_predicted)\n",
    "#sns.heatmap(cm, annot=True, fmt=\"d\", cbar=False, cmap=sns.color_palette(\"Blues\"))\n",
    "#print('\\n')"
   ]
  },
  {
   "cell_type": "markdown",
   "metadata": {},
   "source": [
    "Per tal d'avaluar el nivell de significació dels diferents coeficients, s'implementa logístic regression mitjançant la llibreria ```statsmodels```"
   ]
  },
  {
   "cell_type": "code",
   "execution_count": 40,
   "metadata": {},
   "outputs": [
    {
     "name": "stdout",
     "output_type": "stream",
     "text": [
      "La precisió mitjana en el conjunt de dades de validació és del 0.8123\n",
      "\n"
     ]
    },
    {
     "name": "stderr",
     "output_type": "stream",
     "text": [
      "/home/josepm/anaconda3/lib/python3.7/site-packages/statsmodels/compat/pandas.py:49: FutureWarning: The Panel class is removed from pandas. Accessing it from the top-level namespace will also be removed in the next version\n",
      "  data_klasses = (pandas.Series, pandas.DataFrame, pandas.Panel)\n",
      "/home/josepm/anaconda3/lib/python3.7/site-packages/numpy/core/fromnumeric.py:2389: FutureWarning: Method .ptp is deprecated and will be removed in a future version. Use numpy.ptp instead.\n",
      "  return ptp(axis=axis, out=out, **kwargs)\n",
      "/home/josepm/anaconda3/lib/python3.7/site-packages/statsmodels/base/model.py:1092: RuntimeWarning: invalid value encountered in sqrt\n",
      "  bse_ = np.sqrt(np.diag(self.cov_params()))\n",
      "/home/josepm/anaconda3/lib/python3.7/site-packages/scipy/stats/_distn_infrastructure.py:877: RuntimeWarning: invalid value encountered in greater\n",
      "  return (self.a < x) & (x < self.b)\n",
      "/home/josepm/anaconda3/lib/python3.7/site-packages/scipy/stats/_distn_infrastructure.py:877: RuntimeWarning: invalid value encountered in less\n",
      "  return (self.a < x) & (x < self.b)\n",
      "/home/josepm/anaconda3/lib/python3.7/site-packages/scipy/stats/_distn_infrastructure.py:1831: RuntimeWarning: invalid value encountered in less_equal\n",
      "  cond2 = cond0 & (x <= self.a)\n"
     ]
    },
    {
     "data": {
      "text/html": [
       "<table class=\"simpletable\">\n",
       "<caption>Logit Regression Results</caption>\n",
       "<tr>\n",
       "  <th>Dep. Variable:</th>     <td>Survived</td>     <th>  No. Observations:  </th>  <td>   534</td>  \n",
       "</tr>\n",
       "<tr>\n",
       "  <th>Model:</th>               <td>Logit</td>      <th>  Df Residuals:      </th>  <td>   524</td>  \n",
       "</tr>\n",
       "<tr>\n",
       "  <th>Method:</th>               <td>MLE</td>       <th>  Df Model:          </th>  <td>     9</td>  \n",
       "</tr>\n",
       "<tr>\n",
       "  <th>Date:</th>          <td>Fri, 03 Jan 2020</td> <th>  Pseudo R-squ.:     </th>  <td>0.3226</td>  \n",
       "</tr>\n",
       "<tr>\n",
       "  <th>Time:</th>              <td>21:10:08</td>     <th>  Log-Likelihood:    </th> <td> -239.91</td> \n",
       "</tr>\n",
       "<tr>\n",
       "  <th>converged:</th>           <td>True</td>       <th>  LL-Null:           </th> <td> -354.16</td> \n",
       "</tr>\n",
       "<tr>\n",
       "  <th> </th>                      <td> </td>        <th>  LLR p-value:       </th> <td>3.419e-44</td>\n",
       "</tr>\n",
       "</table>\n",
       "<table class=\"simpletable\">\n",
       "<tr>\n",
       "       <td></td>         <th>coef</th>     <th>std err</th>      <th>z</th>      <th>P>|z|</th>  <th>[0.025</th>    <th>0.975]</th>  \n",
       "</tr>\n",
       "<tr>\n",
       "  <th>const</th>      <td>   -3.1425</td> <td>      nan</td> <td>      nan</td> <td>   nan</td> <td>      nan</td> <td>      nan</td>\n",
       "</tr>\n",
       "<tr>\n",
       "  <th>Age</th>        <td>   -0.0449</td> <td>    0.010</td> <td>   -4.332</td> <td> 0.000</td> <td>   -0.065</td> <td>   -0.025</td>\n",
       "</tr>\n",
       "<tr>\n",
       "  <th>SibSp</th>      <td>   -0.2902</td> <td>    0.140</td> <td>   -2.071</td> <td> 0.038</td> <td>   -0.565</td> <td>   -0.016</td>\n",
       "</tr>\n",
       "<tr>\n",
       "  <th>Parch</th>      <td>   -0.1139</td> <td>    0.150</td> <td>   -0.760</td> <td> 0.447</td> <td>   -0.408</td> <td>    0.180</td>\n",
       "</tr>\n",
       "<tr>\n",
       "  <th>Fare</th>       <td>    0.0010</td> <td>    0.003</td> <td>    0.322</td> <td> 0.748</td> <td>   -0.005</td> <td>    0.007</td>\n",
       "</tr>\n",
       "<tr>\n",
       "  <th>Sex_female</th> <td>    3.9055</td> <td> 2.66e+06</td> <td> 1.47e-06</td> <td> 1.000</td> <td>-5.22e+06</td> <td> 5.22e+06</td>\n",
       "</tr>\n",
       "<tr>\n",
       "  <th>Sex_male</th>   <td>    1.2732</td> <td> 3.18e+06</td> <td>    4e-07</td> <td> 1.000</td> <td>-6.23e+06</td> <td> 6.23e+06</td>\n",
       "</tr>\n",
       "<tr>\n",
       "  <th>Embarked_C</th> <td>    2.1463</td> <td>      nan</td> <td>      nan</td> <td>   nan</td> <td>      nan</td> <td>      nan</td>\n",
       "</tr>\n",
       "<tr>\n",
       "  <th>Embarked_Q</th> <td>    1.6319</td> <td>      nan</td> <td>      nan</td> <td>   nan</td> <td>      nan</td> <td>      nan</td>\n",
       "</tr>\n",
       "<tr>\n",
       "  <th>Embarked_S</th> <td>    1.8378</td> <td>      nan</td> <td>      nan</td> <td>   nan</td> <td>      nan</td> <td>      nan</td>\n",
       "</tr>\n",
       "<tr>\n",
       "  <th>Pclass_1.0</th> <td>    1.4439</td> <td> 2.16e+06</td> <td> 6.67e-07</td> <td> 1.000</td> <td>-4.24e+06</td> <td> 4.24e+06</td>\n",
       "</tr>\n",
       "<tr>\n",
       "  <th>Pclass_2.0</th> <td>    0.1645</td> <td> 2.16e+06</td> <td>  7.6e-08</td> <td> 1.000</td> <td>-4.24e+06</td> <td> 4.24e+06</td>\n",
       "</tr>\n",
       "<tr>\n",
       "  <th>Pclass_3.0</th> <td>   -0.8889</td> <td> 2.16e+06</td> <td>-4.11e-07</td> <td> 1.000</td> <td>-4.24e+06</td> <td> 4.24e+06</td>\n",
       "</tr>\n",
       "</table>"
      ],
      "text/plain": [
       "<class 'statsmodels.iolib.summary.Summary'>\n",
       "\"\"\"\n",
       "                           Logit Regression Results                           \n",
       "==============================================================================\n",
       "Dep. Variable:               Survived   No. Observations:                  534\n",
       "Model:                          Logit   Df Residuals:                      524\n",
       "Method:                           MLE   Df Model:                            9\n",
       "Date:                Fri, 03 Jan 2020   Pseudo R-squ.:                  0.3226\n",
       "Time:                        21:10:08   Log-Likelihood:                -239.91\n",
       "converged:                       True   LL-Null:                       -354.16\n",
       "                                        LLR p-value:                 3.419e-44\n",
       "==============================================================================\n",
       "                 coef    std err          z      P>|z|      [0.025      0.975]\n",
       "------------------------------------------------------------------------------\n",
       "const         -3.1425        nan        nan        nan         nan         nan\n",
       "Age           -0.0449      0.010     -4.332      0.000      -0.065      -0.025\n",
       "SibSp         -0.2902      0.140     -2.071      0.038      -0.565      -0.016\n",
       "Parch         -0.1139      0.150     -0.760      0.447      -0.408       0.180\n",
       "Fare           0.0010      0.003      0.322      0.748      -0.005       0.007\n",
       "Sex_female     3.9055   2.66e+06   1.47e-06      1.000   -5.22e+06    5.22e+06\n",
       "Sex_male       1.2732   3.18e+06      4e-07      1.000   -6.23e+06    6.23e+06\n",
       "Embarked_C     2.1463        nan        nan        nan         nan         nan\n",
       "Embarked_Q     1.6319        nan        nan        nan         nan         nan\n",
       "Embarked_S     1.8378        nan        nan        nan         nan         nan\n",
       "Pclass_1.0     1.4439   2.16e+06   6.67e-07      1.000   -4.24e+06    4.24e+06\n",
       "Pclass_2.0     0.1645   2.16e+06    7.6e-08      1.000   -4.24e+06    4.24e+06\n",
       "Pclass_3.0    -0.8889   2.16e+06  -4.11e-07      1.000   -4.24e+06    4.24e+06\n",
       "==============================================================================\n",
       "\"\"\""
      ]
     },
     "execution_count": 40,
     "metadata": {},
     "output_type": "execute_result"
    }
   ],
   "source": [
    "# Logistic regression utilitzant la llibreria statsmodels per tal de veure la significacio dels coeficients\n",
    "import statsmodels.api as sm\n",
    "sm_model = sm.Logit(y_train, sm.add_constant(X_train)).fit(disp=0)\n",
    "y_val_pred_sm = sm_model.predict(sm.add_constant(X_val))\n",
    "\n",
    "print(\"La precisió mitjana en el conjunt de dades de validació és del {:.4f}\\n\"\n",
    "      .format(sum((y_val_pred_sm>=0.5)==(y_val==1))/len(y_val)))\n",
    "\n",
    "#print(sm_model.pvalues)\n",
    "sm_model.summary()"
   ]
  },
  {
   "cell_type": "markdown",
   "metadata": {},
   "source": [
    "##### Vectors de suport"
   ]
  },
  {
   "cell_type": "markdown",
   "metadata": {},
   "source": [
    "El següent mètode que s'exposa és el [support vector machines](https://en.wikipedia.org/wiki/Support-vector_machine) de la llibreria sklearn, concretament el support vector classification, per predir la variable survive. En la implementació, es farà una cerca de la millor combinació dels hiperparàmetres *C* i *gamma* mitjançant l'elecció entre 30 combinacions realitzades aleatòriament entre 1 i 600, per *C*, i entre 10E-9 i 10E-5 , per *gamma*, el càlcul de la puntuació es realitzarà mitjançant un 4-fold Cross-Validation."
   ]
  },
  {
   "cell_type": "code",
   "execution_count": 41,
   "metadata": {},
   "outputs": [
    {
     "name": "stdout",
     "output_type": "stream",
     "text": [
      "Els paràmetres amb els que s'ha obtingut el millor resultat són:\n",
      "{'C': 540.1397163485832, 'gamma': 9.220965334716942e-06}\n",
      "\n",
      "La diferència entre el millor valor de puntuació i el pitjor és de 0.0974,\n",
      "el que representa que la millor puntuació és un 14.99% millor que la pitjor.\n",
      "\n"
     ]
    },
    {
     "data": {
      "image/png": "[encoded data removed]",
      "text/plain": [
       "<Figure size 720x360 with 2 Axes>"
      ]
     },
     "metadata": {
      "needs_background": "light"
     },
     "output_type": "display_data"
    }
   ],
   "source": [
    "from sklearn.svm import SVC\n",
    "from sklearn.model_selection import RandomizedSearchCV\n",
    "from scipy.stats import uniform\n",
    "\n",
    "# Crea el diccionari amb els paramatres a emprar segons es requereix\n",
    "param_distributions = {'C': uniform(1, 599) , 'gamma': uniform(1E-9,0.000009999) }\n",
    "\n",
    "# Instancia l'objecte amb els parametres anteriors i amb 4 particions\n",
    "random_search = RandomizedSearchCV(SVC(kernel=\"rbf\"), param_distributions, n_iter=30, cv=4)\n",
    "\n",
    "# Entrena el model amb les dades d'entrenament de dimensionalitat reduida\n",
    "random_search.fit(X_train, y_train)\n",
    "\n",
    "# Mostra quins parametres han donat millors resultats\n",
    "print (\"Els paràmetres amb els que s'ha obtingut el millor resultat són:\\n{}\".format(random_search.best_params_))\n",
    "\n",
    "# Mostra les estadistiques comparatives entre la pitjor i millor puntuacio\n",
    "print(\"\\nLa diferència entre el millor valor de puntuació i el pitjor és de {:.4f},\"\n",
    "      .format(random_search.cv_results_[\"mean_test_score\"].max()-random_search.cv_results_[\"mean_test_score\"].min()))\n",
    "print(\"el que representa que la millor puntuació és un {:.2f}% millor que la pitjor.\"\n",
    "      .format((random_search.cv_results_[\"mean_test_score\"].max()-random_search.cv_results_[\"mean_test_score\"].min())\n",
    "              *100/random_search.cv_results_[\"mean_test_score\"].min()))\n",
    "print()\n",
    "\n",
    "# Mostra els grafics amb la puntuacio obtinguda en funcio dels diferents parametres analitzats\n",
    "fig, ax = plt.subplots(1, 2, figsize=(10,5), gridspec_kw=dict(wspace=0))\n",
    "\n",
    "fig.suptitle(\"Puntuació obtinguda en funció dels paràmetres C i gamma analitzats\", x=0.5, y=1, fontsize=16)\n",
    "\n",
    "# Mostra un grafic de la puntuacio en funcio de C\n",
    "ax[0].scatter(random_search.cv_results_[\"param_C\"].data,random_search.cv_results_[\"mean_test_score\"])\n",
    "ax[0].set_xlabel(\"C\")\n",
    "ax[0].set_ylabel(\"score\")\n",
    "\n",
    "# Mostra un grafic de la puntuacio en funcio de gamma, amb l'eix X en escala logaritmica per una millor visualitzacio\n",
    "ax[1].set_xscale(\"log\")\n",
    "ax[1].scatter(random_search.cv_results_[\"param_gamma\"].data,random_search.cv_results_[\"mean_test_score\"])\n",
    "ax[1].set_yticks([])\n",
    "ax[1].set_xlabel(\"gamma (escala logarítmica)\");"
   ]
  },
  {
   "cell_type": "code",
   "execution_count": 42,
   "metadata": {},
   "outputs": [
    {
     "name": "stdout",
     "output_type": "stream",
     "text": [
      "La precisió mitjana en el conjunt de dades de validació és del 0.8123\n",
      "\n",
      "------- Matriu de confusió -------\n",
      "[[196  21]\n",
      " [ 46  94]] \n",
      "\n",
      "------- Classification report -------\n",
      "              precision    recall  f1-score   support\n",
      "\n",
      "         0.0       0.81      0.90      0.85       217\n",
      "         1.0       0.82      0.67      0.74       140\n",
      "\n",
      "   micro avg       0.81      0.81      0.81       357\n",
      "   macro avg       0.81      0.79      0.80       357\n",
      "weighted avg       0.81      0.81      0.81       357\n",
      "\n"
     ]
    }
   ],
   "source": [
    "# Selecciona el millor estimador en funcio dels diferents parametres analitzats\n",
    "model_svc_best = random_search.best_estimator_\n",
    "\n",
    "# Entrena el model\n",
    "model_svc_best.fit(X_train, y_train)\n",
    "\n",
    "# Calcula la prediccio i la precisio\n",
    "y_val_pred = model_svc_best.predict(X_val)\n",
    "acc_svc = model_svc_best.score(X_val, y_val)\n",
    "\n",
    "# Mostra la precio de la prediccio sobre el conjunt de dades de test\n",
    "print(\"La precisió mitjana en el conjunt de dades de validació és del {:.4f}\\n\"\n",
    "      .format(acc_svc))\n",
    "\n",
    "print(\"------- Matriu de confusió -------\")\n",
    "print(confusion_matrix(y_val, y_val_pred),'\\n')\n",
    "\n",
    "print(\"------- Classification report -------\")\n",
    "print(classification_report(y_val, y_val_pred))"
   ]
  },
  {
   "cell_type": "markdown",
   "metadata": {},
   "source": [
    "##### KNN"
   ]
  },
  {
   "cell_type": "markdown",
   "metadata": {},
   "source": [
    "El següent mètode que farem servir és el [k veins més proxims](https://es.wikipedia.org/wiki/K_vecinos_más_próximos) de la llibreria sklearn, per predir la variable survive. En la implementació, es farà una cerca de la millor combinació dels hiperparàmetres *n_neighbors* i *weights* mitjançant l'elecció de entre totes les combinacions entre 1 i 10, per *n_neighbors*, i entre 'uniform' i 'distance' , per *weights*, el càlcul de la puntuació es realitzarà mitjançant un 4-fold Cross-Validation."
   ]
  },
  {
   "cell_type": "code",
   "execution_count": 43,
   "metadata": {},
   "outputs": [
    {
     "name": "stdout",
     "output_type": "stream",
     "text": [
      "Els paràmetres amb els que s'ha obtingut el millor resultat són: {'n_neighbors': 5, 'weights': 'uniform'}\n",
      "\n",
      "\n",
      "La taula de puntuació en funció del valor k (columnes) i tipologia de pesos elegits (files) és:\n"
     ]
    },
    {
     "name": "stderr",
     "output_type": "stream",
     "text": [
      "/home/josepm/anaconda3/lib/python3.7/site-packages/sklearn/model_selection/_search.py:841: DeprecationWarning: The default of the `iid` parameter will change from True to False in version 0.22 and will be removed in 0.24. This will change numeric results when test-set sizes are unequal.\n",
      "  DeprecationWarning)\n"
     ]
    },
    {
     "data": {
      "text/html": [
       "<div>\n",
       "<style scoped>\n",
       "    .dataframe tbody tr th:only-of-type {\n",
       "        vertical-align: middle;\n",
       "    }\n",
       "\n",
       "    .dataframe tbody tr th {\n",
       "        vertical-align: top;\n",
       "    }\n",
       "\n",
       "    .dataframe thead th {\n",
       "        text-align: right;\n",
       "    }\n",
       "</style>\n",
       "<table border=\"1\" class=\"dataframe\">\n",
       "  <thead>\n",
       "    <tr style=\"text-align: right;\">\n",
       "      <th></th>\n",
       "      <th>1</th>\n",
       "      <th>2</th>\n",
       "      <th>3</th>\n",
       "      <th>4</th>\n",
       "      <th>5</th>\n",
       "      <th>6</th>\n",
       "      <th>7</th>\n",
       "      <th>8</th>\n",
       "      <th>9</th>\n",
       "      <th>10</th>\n",
       "    </tr>\n",
       "  </thead>\n",
       "  <tbody>\n",
       "    <tr>\n",
       "      <td>uniform</td>\n",
       "      <td>0.664794</td>\n",
       "      <td>0.676030</td>\n",
       "      <td>0.677903</td>\n",
       "      <td>0.687266</td>\n",
       "      <td>0.698502</td>\n",
       "      <td>0.689139</td>\n",
       "      <td>0.681648</td>\n",
       "      <td>0.692884</td>\n",
       "      <td>0.691011</td>\n",
       "      <td>0.689139</td>\n",
       "    </tr>\n",
       "    <tr>\n",
       "      <td>distance</td>\n",
       "      <td>0.664794</td>\n",
       "      <td>0.674157</td>\n",
       "      <td>0.681648</td>\n",
       "      <td>0.668539</td>\n",
       "      <td>0.692884</td>\n",
       "      <td>0.681648</td>\n",
       "      <td>0.687266</td>\n",
       "      <td>0.674157</td>\n",
       "      <td>0.687266</td>\n",
       "      <td>0.691011</td>\n",
       "    </tr>\n",
       "  </tbody>\n",
       "</table>\n",
       "</div>"
      ],
      "text/plain": [
       "                1         2         3         4         5         6   \\\n",
       "uniform   0.664794  0.676030  0.677903  0.687266  0.698502  0.689139   \n",
       "distance  0.664794  0.674157  0.681648  0.668539  0.692884  0.681648   \n",
       "\n",
       "                7         8         9         10  \n",
       "uniform   0.681648  0.692884  0.691011  0.689139  \n",
       "distance  0.687266  0.674157  0.687266  0.691011  "
      ]
     },
     "metadata": {},
     "output_type": "display_data"
    },
    {
     "name": "stdout",
     "output_type": "stream",
     "text": [
      "La diferència entre el millor valor de puntuació i el pitjor és de 0.0337,\n",
      "el que representa que la millor puntuació és un 5.07% millor que la pitjor.\n",
      "\n"
     ]
    },
    {
     "data": {
      "image/png": "[encoded data removed]",
      "text/plain": [
       "<Figure size 432x432 with 1 Axes>"
      ]
     },
     "metadata": {
      "needs_background": "light"
     },
     "output_type": "display_data"
    }
   ],
   "source": [
    "from sklearn.neighbors import KNeighborsClassifier\n",
    "from sklearn.model_selection import GridSearchCV\n",
    "\n",
    "# Crea el diccionari amb els paramatres a emprar segons es requereix\n",
    "param_grid = {'n_neighbors': [1, 2, 3, 4, 5, 6, 7, 8, 9, 10],\n",
    "             'weights': [\"uniform\", \"distance\"]}\n",
    "\n",
    "# Instancia l'objecte amb els parametres anteriors i el nombre de particions estratificades requerides\n",
    "grid_search = GridSearchCV(KNeighborsClassifier(), param_grid, cv=4)\n",
    "\n",
    "# Entrena el model amb les dades d'entrenament de dimensionalitat reduida\n",
    "grid_search.fit(X_train, y_train)\n",
    "\n",
    "# Mostra quins parametres han donat millors resultats\n",
    "print (\"Els paràmetres amb els que s'ha obtingut el millor resultat són: {}\".format(grid_search.best_params_))\n",
    "\n",
    "# Carrega el resultat a un dataframe per visualitzar-lo millor\n",
    "df_result = pd.DataFrame(grid_search.cv_results_[\"mean_test_score\"].reshape(-1,2).T, columns=param_grid[\"n_neighbors\"],\n",
    "                         index=param_grid[\"weights\"])\n",
    "\n",
    "# Mostra el dataframe\n",
    "print(\"\\n\\nLa taula de puntuació en funció del valor k (columnes) i tipologia de pesos elegits (files) és:\")\n",
    "display(df_result)\n",
    "\n",
    "# Mostra les estadistiques comparatives entre la pitjor i millor puntuacio\n",
    "print(\"La diferència entre el millor valor de puntuació i el pitjor és de {:.4f},\"\n",
    "      .format(df_result.values.max()-df_result.values.min()))\n",
    "print(\"el que representa que la millor puntuació és un {:.2f}% millor que la pitjor.\"\n",
    "      .format((df_result.values.max()-df_result.values.min())*100/df_result.values.min()))\n",
    "print()\n",
    "\n",
    "\n",
    "# Mostra un grafic de la puntuacio en funcio de k i els pesos emprats\n",
    "ax = df_result.T.plot(figsize=(6,6))\n",
    "ax.set_xlabel(\"k-neighbors\")\n",
    "ax.set_ylabel(\"score\")\n",
    "ax.legend(title=\"weigth type\")\n",
    "ax.set_title(\"Puntuació segons el nombre de veins i tipus de pesos considerats\");"
   ]
  },
  {
   "cell_type": "code",
   "execution_count": 44,
   "metadata": {},
   "outputs": [
    {
     "name": "stdout",
     "output_type": "stream",
     "text": [
      "La precisió mitjana en el conjunt de dades de validació és del 0.7395\n",
      "\n",
      "------- Matriu de confusió -------\n",
      "[[186  31]\n",
      " [ 62  78]] \n",
      "\n",
      "------- Classification report -------\n",
      "              precision    recall  f1-score   support\n",
      "\n",
      "         0.0       0.75      0.86      0.80       217\n",
      "         1.0       0.72      0.56      0.63       140\n",
      "\n",
      "   micro avg       0.74      0.74      0.74       357\n",
      "   macro avg       0.73      0.71      0.71       357\n",
      "weighted avg       0.74      0.74      0.73       357\n",
      "\n"
     ]
    }
   ],
   "source": [
    "# Selecciona el millor estimador en funcio dels diferents parametres analitzats\n",
    "model_knn_best = grid_search.best_estimator_\n",
    "\n",
    "# Entrena el millor model\n",
    "model_knn_best.fit(X_train, y_train)\n",
    "\n",
    "# Predicció del conjunt de validacio i precisio\n",
    "y_val_pred = model_knn_best.predict(X_val)\n",
    "acc_knn = model_knn_best.score(X_val, y_val)\n",
    "\n",
    "# Mostra la precio de la prediccio sobre el conjunt de dades de test\n",
    "print(\"La precisió mitjana en el conjunt de dades de validació és del {:.4f}\\n\"\n",
    "      .format(acc_knn))\n",
    "\n",
    "print(\"------- Matriu de confusió -------\")\n",
    "print(confusion_matrix(y_val, y_val_pred),'\\n')\n",
    "\n",
    "print(\"------- Classification report -------\")\n",
    "print(classification_report(y_val, y_val_pred))"
   ]
  },
  {
   "cell_type": "markdown",
   "metadata": {},
   "source": [
    "##### XGBoost"
   ]
  },
  {
   "cell_type": "markdown",
   "metadata": {},
   "source": [
    "El següent mètode s'exposa és el [XGBoost](https://en.wikipedia.org/wiki/XGBoost) anomenat també \"Extreme Gradient Boosting\", implementat en la llibreria del mateix nom i que, per a més informació, es pot consultar la [documentació de la llibreria XGBoost per Python](https://xgboost.readthedocs.io/en/latest/python/index.html), per predir la variable survive. En la implementació, es farà una cerca de la millor combinació dels hiperparàmetres *learning_rate*, *max_depth*, *colsample_bytree*, *n_estimator*, *subsample* i *gamma* mitjançant l'elecció entre 50 combinacions realitzades aleatòriament entre 0.03 i 0.3, per *learning_rate*, entre 2 i 6 per *max_depth*, entre 0.3 i 0.7, per *colsample_bytree*, entre 100 i 150 per *n_estimator*, entre 0.4 i 0.6 per *subsample* i entre 0 i 0.5 , per *gamma*, el càlcul de la puntuació es realitzarà mitjançant un 4-fold Cross-Validation."
   ]
  },
  {
   "cell_type": "code",
   "execution_count": 45,
   "metadata": {},
   "outputs": [
    {
     "name": "stdout",
     "output_type": "stream",
     "text": [
      "Els paràmetres amb els que s'ha obtingut el millor resultat són:\n",
      "{'colsample_bytree': 0.7958491252409777, 'gamma': 0.3747139534631242, 'learning_rate': 0.04718573255762214, 'max_depth': 3, 'n_estimators': 132, 'subsample': 0.6054013160093471}\n",
      "\n",
      "La diferència entre el millor valor de puntuació i el pitjor és de 0.0393,\n",
      "el que representa que la millor puntuació és un 5.10% millor que la pitjor.\n",
      "\n"
     ]
    },
    {
     "data": {
      "image/png": "[encoded data removed]",
      "text/plain": [
       "<Figure size 1080x360 with 6 Axes>"
      ]
     },
     "metadata": {
      "needs_background": "light"
     },
     "output_type": "display_data"
    }
   ],
   "source": [
    "import xgboost as xgb\n",
    "from scipy.stats import randint\n",
    "\n",
    "# Crea el diccionari amb els paramatres a emprar segons es requereix\n",
    "param_distributions = {\"colsample_bytree\": uniform(0.7, 0.3),\n",
    "    \"gamma\": uniform(0, 0.5),\n",
    "    \"learning_rate\": uniform(0.03, 0.3), # default 0.1 \n",
    "    \"max_depth\": randint(2, 6), # default 3\n",
    "    \"n_estimators\": randint(100, 150), # default 100\n",
    "    \"subsample\": uniform(0.6, 0.4)}\n",
    "\n",
    "# Instancia l'objecte amb els parametres anteriors i amb 4 particions\n",
    "random_search = RandomizedSearchCV(xgb.XGBClassifier(objective='binary:logistic'), param_distributions, n_iter=50, cv=4)\n",
    "\n",
    "# Entrena el model amb les dades d'entrenament de dimensionalitat reduida\n",
    "random_search.fit(X_train, y_train)\n",
    "\n",
    "# Mostra quins parametres han donat millors resultats\n",
    "print (\"Els paràmetres amb els que s'ha obtingut el millor resultat són:\\n{}\".format(random_search.best_params_))\n",
    "\n",
    "# Mostra les estadistiques comparatives entre la pitjor i millor puntuacio\n",
    "print(\"\\nLa diferència entre el millor valor de puntuació i el pitjor és de {:.4f},\"\n",
    "      .format(random_search.cv_results_[\"mean_test_score\"].max()-random_search.cv_results_[\"mean_test_score\"].min()))\n",
    "print(\"el que representa que la millor puntuació és un {:.2f}% millor que la pitjor.\"\n",
    "      .format((random_search.cv_results_[\"mean_test_score\"].max()-random_search.cv_results_[\"mean_test_score\"].min())\n",
    "              *100/random_search.cv_results_[\"mean_test_score\"].min()))\n",
    "print()\n",
    "\n",
    "# Mostra els grafics amb la puntuacio obtinguda en funcio dels diferents parametres analitzats\n",
    "fig, ax = plt.subplots(1, 6, figsize=(15,5), gridspec_kw=dict(wspace=0))\n",
    "\n",
    "fig.suptitle(\"Puntuació obtinguda en funció dels diferents paràmetres analitzats\", x=0.5, y=1, fontsize=16)\n",
    "\n",
    "# Mostra un grafic de la puntuacio en funcio del learning rate\n",
    "ax[0].scatter(random_search.cv_results_[\"param_learning_rate\"].data,random_search.cv_results_[\"mean_test_score\"])\n",
    "ax[0].set_xlabel(\"learning_rate\")\n",
    "ax[0].set_ylabel(\"score\")\n",
    "\n",
    "# Mostra un grafic de la puntuacio en funcio de gamma, amb l'eix X en escala logaritmica per una millor visualitzacio\n",
    "#ax[1].set_xscale(\"log\")\n",
    "ax[1].scatter(random_search.cv_results_[\"param_gamma\"].data,random_search.cv_results_[\"mean_test_score\"])\n",
    "ax[1].set_yticks([])\n",
    "ax[1].set_xlabel(\"gamma (escala logarítmica)\")\n",
    "\n",
    "# Mostra un grafic de la puntuacio en funcio de n_estimators\n",
    "ax[2].scatter(random_search.cv_results_[\"param_n_estimators\"].data,random_search.cv_results_[\"mean_test_score\"])\n",
    "ax[2].set_yticks([])\n",
    "ax[2].set_xlabel(\"n_estimators\")\n",
    "\n",
    "# Mostra un grafic de la puntuacio en funcio de subsample\n",
    "ax[3].scatter(random_search.cv_results_[\"param_subsample\"].data,random_search.cv_results_[\"mean_test_score\"])\n",
    "ax[3].set_yticks([])\n",
    "ax[3].set_xlabel(\"subsample\")\n",
    "\n",
    "# Mostra un grafic de la puntuacio en funcio de subsample\n",
    "ax[4].scatter(random_search.cv_results_[\"param_max_depth\"].data,random_search.cv_results_[\"mean_test_score\"])\n",
    "ax[4].set_yticks([])\n",
    "ax[4].set_xlabel(\"max_depth\")\n",
    "\n",
    "# Mostra un grafic de la puntuacio en funcio de subsample\n",
    "ax[5].scatter(random_search.cv_results_[\"param_colsample_bytree\"].data,random_search.cv_results_[\"mean_test_score\"])\n",
    "ax[5].set_yticks([])\n",
    "ax[5].set_xlabel(\"colsample_bytree\");"
   ]
  },
  {
   "cell_type": "code",
   "execution_count": 46,
   "metadata": {},
   "outputs": [
    {
     "name": "stdout",
     "output_type": "stream",
     "text": [
      "La precisió mitjana en el conjunt de dades de validació és del 0.8263\n",
      "\n",
      "------- Matriu de confusió -------\n",
      "[[204  13]\n",
      " [ 49  91]] \n",
      "\n",
      "------- Classification report -------\n",
      "              precision    recall  f1-score   support\n",
      "\n",
      "         0.0       0.81      0.94      0.87       217\n",
      "         1.0       0.88      0.65      0.75       140\n",
      "\n",
      "   micro avg       0.83      0.83      0.83       357\n",
      "   macro avg       0.84      0.80      0.81       357\n",
      "weighted avg       0.83      0.83      0.82       357\n",
      "\n"
     ]
    }
   ],
   "source": [
    "# Selecciona el millor estimador en funcio dels diferents parametres analitzats\n",
    "model_xgboost_best = random_search.best_estimator_\n",
    "\n",
    "model_xgboost_best.fit(X_train, y_train)\n",
    "\n",
    "# Predicció del conjunt de validacio i la seva precisio\n",
    "y_val_pred = model_xgboost_best.predict(X_val)\n",
    "acc_xgboost = model_xgboost_best.score(X_val, y_val)\n",
    "\n",
    "\n",
    "# Mostra la precio de la prediccio sobre el conjunt de dades de test\n",
    "print(\"La precisió mitjana en el conjunt de dades de validació és del {:.4f}\\n\"\n",
    "      .format(acc_xgboost))\n",
    "\n",
    "print(\"------- Matriu de confusió -------\")\n",
    "print(confusion_matrix(y_val, y_val_pred),'\\n')\n",
    "\n",
    "print(\"------- Classification report -------\")\n",
    "print(classification_report(y_val, y_val_pred))"
   ]
  },
  {
   "cell_type": "code",
   "execution_count": 47,
   "metadata": {},
   "outputs": [
    {
     "data": {
      "text/html": [
       "<div>\n",
       "<style scoped>\n",
       "    .dataframe tbody tr th:only-of-type {\n",
       "        vertical-align: middle;\n",
       "    }\n",
       "\n",
       "    .dataframe tbody tr th {\n",
       "        vertical-align: top;\n",
       "    }\n",
       "\n",
       "    .dataframe thead th {\n",
       "        text-align: right;\n",
       "    }\n",
       "</style>\n",
       "<table border=\"1\" class=\"dataframe\">\n",
       "  <thead>\n",
       "    <tr style=\"text-align: right;\">\n",
       "      <th></th>\n",
       "      <th>accuracy</th>\n",
       "    </tr>\n",
       "    <tr>\n",
       "      <th>prova</th>\n",
       "      <th></th>\n",
       "    </tr>\n",
       "  </thead>\n",
       "  <tbody>\n",
       "    <tr>\n",
       "      <td>Logistic Regression</td>\n",
       "      <td>0.812325</td>\n",
       "    </tr>\n",
       "    <tr>\n",
       "      <td>Suport Vector Classifier</td>\n",
       "      <td>0.812325</td>\n",
       "    </tr>\n",
       "    <tr>\n",
       "      <td>KNN</td>\n",
       "      <td>0.739496</td>\n",
       "    </tr>\n",
       "    <tr>\n",
       "      <td>XGBoost</td>\n",
       "      <td>0.826331</td>\n",
       "    </tr>\n",
       "  </tbody>\n",
       "</table>\n",
       "</div>"
      ],
      "text/plain": [
       "                          accuracy\n",
       "prova                             \n",
       "Logistic Regression       0.812325\n",
       "Suport Vector Classifier  0.812325\n",
       "KNN                       0.739496\n",
       "XGBoost                   0.826331"
      ]
     },
     "metadata": {},
     "output_type": "display_data"
    }
   ],
   "source": [
    "# Mostra la precisió dels diferents models predictius \n",
    "result = pd.DataFrame([acc_logit, acc_svc, acc_knn, acc_xgboost], \n",
    "             index=['Logistic Regression', 'Suport Vector Classifier', 'KNN', 'XGBoost'],\n",
    "             columns=['accuracy']\n",
    "            )\n",
    "\n",
    "result.index.name = 'prova'\n",
    "\n",
    "display(result)"
   ]
  },
  {
   "cell_type": "markdown",
   "metadata": {},
   "source": [
    "# 6. Resolució del problema. Conclusions"
   ]
  },
  {
   "cell_type": "markdown",
   "metadata": {},
   "source": [
    "Recordant que el problema inicial era obtenir una predicció de supervivència per una sèrie de passatgers (conjunt de test) i analitzant les dades de l'apartat anterior de precisió pels diferents models predictius emprats, es decideix seleccionar el model XGBoost per fer la predicció. A continuació es realitza la predicció i també es crea el fitxer que es penjarà al concurs de Kaggle."
   ]
  },
  {
   "cell_type": "code",
   "execution_count": 48,
   "metadata": {},
   "outputs": [
    {
     "data": {
      "text/html": [
       "<div>\n",
       "<style scoped>\n",
       "    .dataframe tbody tr th:only-of-type {\n",
       "        vertical-align: middle;\n",
       "    }\n",
       "\n",
       "    .dataframe tbody tr th {\n",
       "        vertical-align: top;\n",
       "    }\n",
       "\n",
       "    .dataframe thead th {\n",
       "        text-align: right;\n",
       "    }\n",
       "</style>\n",
       "<table border=\"1\" class=\"dataframe\">\n",
       "  <thead>\n",
       "    <tr style=\"text-align: right;\">\n",
       "      <th></th>\n",
       "      <th>PassengerId</th>\n",
       "      <th>Age</th>\n",
       "      <th>SibSp</th>\n",
       "      <th>Parch</th>\n",
       "      <th>Fare</th>\n",
       "      <th>Sex_female</th>\n",
       "      <th>Sex_male</th>\n",
       "      <th>Embarked_C</th>\n",
       "      <th>Embarked_Q</th>\n",
       "      <th>Embarked_S</th>\n",
       "      <th>Pclass_1.0</th>\n",
       "      <th>Pclass_2.0</th>\n",
       "      <th>Pclass_3.0</th>\n",
       "    </tr>\n",
       "  </thead>\n",
       "  <tbody>\n",
       "    <tr>\n",
       "      <td>0</td>\n",
       "      <td>892.0</td>\n",
       "      <td>34.0</td>\n",
       "      <td>0.0</td>\n",
       "      <td>0.0</td>\n",
       "      <td>7.8292</td>\n",
       "      <td>0.0</td>\n",
       "      <td>1.0</td>\n",
       "      <td>0.0</td>\n",
       "      <td>1.0</td>\n",
       "      <td>0.0</td>\n",
       "      <td>0</td>\n",
       "      <td>0</td>\n",
       "      <td>1</td>\n",
       "    </tr>\n",
       "    <tr>\n",
       "      <td>1</td>\n",
       "      <td>893.0</td>\n",
       "      <td>47.0</td>\n",
       "      <td>1.0</td>\n",
       "      <td>0.0</td>\n",
       "      <td>7.0000</td>\n",
       "      <td>1.0</td>\n",
       "      <td>0.0</td>\n",
       "      <td>0.0</td>\n",
       "      <td>0.0</td>\n",
       "      <td>1.0</td>\n",
       "      <td>0</td>\n",
       "      <td>0</td>\n",
       "      <td>1</td>\n",
       "    </tr>\n",
       "    <tr>\n",
       "      <td>2</td>\n",
       "      <td>894.0</td>\n",
       "      <td>62.0</td>\n",
       "      <td>0.0</td>\n",
       "      <td>0.0</td>\n",
       "      <td>9.6875</td>\n",
       "      <td>0.0</td>\n",
       "      <td>1.0</td>\n",
       "      <td>0.0</td>\n",
       "      <td>1.0</td>\n",
       "      <td>0.0</td>\n",
       "      <td>0</td>\n",
       "      <td>1</td>\n",
       "      <td>0</td>\n",
       "    </tr>\n",
       "    <tr>\n",
       "      <td>3</td>\n",
       "      <td>895.0</td>\n",
       "      <td>27.0</td>\n",
       "      <td>0.0</td>\n",
       "      <td>0.0</td>\n",
       "      <td>8.6625</td>\n",
       "      <td>0.0</td>\n",
       "      <td>1.0</td>\n",
       "      <td>0.0</td>\n",
       "      <td>0.0</td>\n",
       "      <td>1.0</td>\n",
       "      <td>0</td>\n",
       "      <td>0</td>\n",
       "      <td>1</td>\n",
       "    </tr>\n",
       "    <tr>\n",
       "      <td>4</td>\n",
       "      <td>896.0</td>\n",
       "      <td>22.0</td>\n",
       "      <td>1.0</td>\n",
       "      <td>1.0</td>\n",
       "      <td>12.2875</td>\n",
       "      <td>1.0</td>\n",
       "      <td>0.0</td>\n",
       "      <td>0.0</td>\n",
       "      <td>0.0</td>\n",
       "      <td>1.0</td>\n",
       "      <td>0</td>\n",
       "      <td>0</td>\n",
       "      <td>1</td>\n",
       "    </tr>\n",
       "  </tbody>\n",
       "</table>\n",
       "</div>"
      ],
      "text/plain": [
       "   PassengerId   Age  SibSp  Parch     Fare  Sex_female  Sex_male  Embarked_C  \\\n",
       "0        892.0  34.0    0.0    0.0   7.8292         0.0       1.0         0.0   \n",
       "1        893.0  47.0    1.0    0.0   7.0000         1.0       0.0         0.0   \n",
       "2        894.0  62.0    0.0    0.0   9.6875         0.0       1.0         0.0   \n",
       "3        895.0  27.0    0.0    0.0   8.6625         0.0       1.0         0.0   \n",
       "4        896.0  22.0    1.0    1.0  12.2875         1.0       0.0         0.0   \n",
       "\n",
       "   Embarked_Q  Embarked_S  Pclass_1.0  Pclass_2.0  Pclass_3.0  \n",
       "0         1.0         0.0           0           0           1  \n",
       "1         0.0         1.0           0           0           1  \n",
       "2         1.0         0.0           0           1           0  \n",
       "3         0.0         1.0           0           0           1  \n",
       "4         0.0         1.0           0           0           1  "
      ]
     },
     "execution_count": 48,
     "metadata": {},
     "output_type": "execute_result"
    }
   ],
   "source": [
    "# Es mostra la capçalera del dataframe de test\n",
    "titanic_test_final.head()"
   ]
  },
  {
   "cell_type": "code",
   "execution_count": 49,
   "metadata": {},
   "outputs": [],
   "source": [
    "# Seleccio de les variables de test\n",
    "X_test = titanic_test_final.iloc[:,1:]\n",
    "\n",
    "# Predicció del conjunt de test\n",
    "y_test_pred = model_xgboost_best.predict(X_test)\n",
    "\n",
    "# S'afegeix la columna de previsio de supervivencia\n",
    "titanic_test_final['Survived_pred'] = y_test_pred\n",
    "\n",
    "# S'extreuen les dues columnes necessaries per fer el submit i es converteixen a int\n",
    "result = titanic_test_final[['PassengerId', 'Survived_pred']].astype('int64')\n",
    "\n",
    "# S'exporta el dataframe al fitxer de submissio\n",
    "result.to_csv(path_or_buf=os.getcwd()+'/data/out/test_submission.csv', \n",
    "                    header=['PassengerId', 'Survived'], index=False)"
   ]
  },
  {
   "cell_type": "markdown",
   "metadata": {},
   "source": [
    "Aquest fitxer s'ha penjat a la [competició Titanic de kaggle](https://www.kaggle.com/c/titanic/leaderboard) i s'ha obtingut una puntuació de 0.77990, que serveix per posicionar-se en la posició 6510 del total de 16568 respostes pujades, a data 3 de gener de 2020."
   ]
  },
  {
   "cell_type": "markdown",
   "metadata": {},
   "source": [
    "A mode de conclusió, indicar que en aquesta pràctica, primerament, s'han analitzat les dades disponibles referent als passatgers del Titanic, netejant-les i completant-les segons s'han considerat. Posteriorment, s'ha realitzat una anàlisi descriptiva de les dades, així com diferents proves estadístiques per tal d'analitzar el comportament diferenciat d'agrupacions de dades que s'han determinat després de l'observació de la distribució mostral de determinades variables, determinant-se diferències estadísticament significatives entre les diferents agrupacions estudiades. Finalment, s'ha dividit el conjunt de dades d'entrenament amb dos grups estratificats segons sexe, ja que era l'agrupació que mostrava significativament més diferències, un d'ell s'ha tractat pròpiament com el conjunt d'entrenament emprant-lo per entrenar els diferents models considerats i, l'altre, s'ha considerat com un conjunt de validació, per tal d'avaluar la precisió de cada model estudiat. En aquest sentit, s'han implementat quatre models predictius: regressió logística, vectors de suport, knn i XGBoost, obtenint la millor precisió amb el model XGBoost, que és el que s'ha emprat per obtenir la predicció en el conjunt de dades de test i que ha estat la que s'ha penjat en la competició de kaggle.\n",
    "\n",
    "Cal indicar que la precisió obtinguda en el conjunt de test és similar a l'obtinguda en el conjunt de validació, però tot i això, és relativament baixa, menor al 80%, per tal d'intentar millorar aquesta puntuació i com a indicació per a futurs treballs, després d'analitzar altres solucions penjades en la web de la competició, seria molt interessant afegir un nou camp de \"Titol\" de passatger on, a partir de l'string del nom, es diferenciessin els passatgers oficials (Major, Capt, Col, etc), pertanyents a la reialesa (Sir, Countess, etc), segur que aquesta variable enriquiria el dataset i permetria millorar la puntuació.\n",
    "\n",
    "Finalment, indicar que la valoració final de la pràctica ha estat molt positiva, ja que ens ha permés aplicar coneixements adquirits en altres assignatures i, com a resultat final, obtenir un resultat que ha estat \"puntuat\" en una competició."
   ]
  }
 ],
 "metadata": {
  "kernelspec": {
   "display_name": "Python 3",
   "language": "python",
   "name": "python3"
  },
  "language_info": {
   "codemirror_mode": {
    "name": "ipython",
    "version": 3
   },
   "file_extension": ".py",
   "mimetype": "text/x-python",
   "name": "python",
   "nbconvert_exporter": "python",
   "pygments_lexer": "ipython3",
   "version": "3.7.3"
  }
 },
 "nbformat": 4,
 "nbformat_minor": 4
}
